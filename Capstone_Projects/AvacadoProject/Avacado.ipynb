{
 "cells": [
  {
   "cell_type": "markdown",
   "metadata": {},
   "source": [
    "# Avocado Project\n",
    "### Project Description\n",
    "This data was downloaded from the Hass Avocado Board website in May of 2018 & compiled into a single CSV. \n",
    "\n",
    "\n",
    "The table below represents weekly 2018 retail scan data for National retail volume (units) and price. Retail scan data comes directly from retailers’ cash registers based on actual retail sales of Hass avocados. \n",
    "\n",
    "\n",
    "Starting in 2013, the table below reflects an expanded, multi-outlet retail data set. Multi-outlet reporting includes an aggregation of the following channels: grocery, mass, club, drug, dollar and military. The Average Price (of avocados) in the table reflects a per unit (per avocado) cost, even when multiple units (avocados) are sold in bags. \n",
    "\n",
    "\n",
    "The Product Lookup codes (PLU’s) in the table are only for Hass avocados. Other varieties of avocados (e.g. greenskins) are not included in this table.\n",
    "Some relevant columns in the dataset:\n",
    "\n",
    "\n",
    "- Date - The date of the observation\n",
    "- AveragePrice - the average price of a single avocado\n",
    "- type - conventional or organic\n",
    "- year - the year\n",
    "- Region - the city or region of the observation\n",
    "- Total Volume - Total number of avocados sold\n",
    "- 4046 - Total number of avocados with PLU 4046 sold\n",
    "- 4225 - Total number of avocados with PLU 4225 sold\n",
    "- 4770 - Total number of avocados with PLU 4770 sold\n",
    "\n",
    "Inspiration /Label \n",
    "\n",
    "\n",
    "The dataset can be seen in two angles to find the region and find the average price .\\\n",
    "Task: One of Classification and other of Regression\\\n",
    "Do both tasks in the same .ipynb file and submit at single file. \n",
    "\n",
    "Dataset Link-\n",
    "https://github.com/dsrscientist/Data-Science-ML-Capstone-Projects/blob/master/avocado.csv.zip"
   ]
  },
  {
   "cell_type": "code",
   "execution_count": 34,
   "metadata": {},
   "outputs": [],
   "source": [
    "# libraries\n",
    "import numpy as np \n",
    "import pandas as pd\n",
    "import matplotlib.pyplot as plt\n",
    "import warnings\n",
    "warnings.filterwarnings(\"ignore\")\n"
   ]
  },
  {
   "cell_type": "code",
   "execution_count": 35,
   "metadata": {},
   "outputs": [
    {
     "data": {
      "text/html": [
       "<div>\n",
       "<style scoped>\n",
       "    .dataframe tbody tr th:only-of-type {\n",
       "        vertical-align: middle;\n",
       "    }\n",
       "\n",
       "    .dataframe tbody tr th {\n",
       "        vertical-align: top;\n",
       "    }\n",
       "\n",
       "    .dataframe thead th {\n",
       "        text-align: right;\n",
       "    }\n",
       "</style>\n",
       "<table border=\"1\" class=\"dataframe\">\n",
       "  <thead>\n",
       "    <tr style=\"text-align: right;\">\n",
       "      <th></th>\n",
       "      <th>Unnamed: 0</th>\n",
       "      <th>Date</th>\n",
       "      <th>AveragePrice</th>\n",
       "      <th>Total Volume</th>\n",
       "      <th>4046</th>\n",
       "      <th>4225</th>\n",
       "      <th>4770</th>\n",
       "      <th>Total Bags</th>\n",
       "      <th>Small Bags</th>\n",
       "      <th>Large Bags</th>\n",
       "      <th>XLarge Bags</th>\n",
       "      <th>type</th>\n",
       "      <th>year</th>\n",
       "      <th>region</th>\n",
       "    </tr>\n",
       "  </thead>\n",
       "  <tbody>\n",
       "    <tr>\n",
       "      <th>18244</th>\n",
       "      <td>7</td>\n",
       "      <td>2018-02-04</td>\n",
       "      <td>1.63</td>\n",
       "      <td>17074.83</td>\n",
       "      <td>2046.96</td>\n",
       "      <td>1529.20</td>\n",
       "      <td>0.00</td>\n",
       "      <td>13498.67</td>\n",
       "      <td>13066.82</td>\n",
       "      <td>431.85</td>\n",
       "      <td>0.0</td>\n",
       "      <td>organic</td>\n",
       "      <td>2018</td>\n",
       "      <td>WestTexNewMexico</td>\n",
       "    </tr>\n",
       "    <tr>\n",
       "      <th>18245</th>\n",
       "      <td>8</td>\n",
       "      <td>2018-01-28</td>\n",
       "      <td>1.71</td>\n",
       "      <td>13888.04</td>\n",
       "      <td>1191.70</td>\n",
       "      <td>3431.50</td>\n",
       "      <td>0.00</td>\n",
       "      <td>9264.84</td>\n",
       "      <td>8940.04</td>\n",
       "      <td>324.80</td>\n",
       "      <td>0.0</td>\n",
       "      <td>organic</td>\n",
       "      <td>2018</td>\n",
       "      <td>WestTexNewMexico</td>\n",
       "    </tr>\n",
       "    <tr>\n",
       "      <th>18246</th>\n",
       "      <td>9</td>\n",
       "      <td>2018-01-21</td>\n",
       "      <td>1.87</td>\n",
       "      <td>13766.76</td>\n",
       "      <td>1191.92</td>\n",
       "      <td>2452.79</td>\n",
       "      <td>727.94</td>\n",
       "      <td>9394.11</td>\n",
       "      <td>9351.80</td>\n",
       "      <td>42.31</td>\n",
       "      <td>0.0</td>\n",
       "      <td>organic</td>\n",
       "      <td>2018</td>\n",
       "      <td>WestTexNewMexico</td>\n",
       "    </tr>\n",
       "    <tr>\n",
       "      <th>18247</th>\n",
       "      <td>10</td>\n",
       "      <td>2018-01-14</td>\n",
       "      <td>1.93</td>\n",
       "      <td>16205.22</td>\n",
       "      <td>1527.63</td>\n",
       "      <td>2981.04</td>\n",
       "      <td>727.01</td>\n",
       "      <td>10969.54</td>\n",
       "      <td>10919.54</td>\n",
       "      <td>50.00</td>\n",
       "      <td>0.0</td>\n",
       "      <td>organic</td>\n",
       "      <td>2018</td>\n",
       "      <td>WestTexNewMexico</td>\n",
       "    </tr>\n",
       "    <tr>\n",
       "      <th>18248</th>\n",
       "      <td>11</td>\n",
       "      <td>2018-01-07</td>\n",
       "      <td>1.62</td>\n",
       "      <td>17489.58</td>\n",
       "      <td>2894.77</td>\n",
       "      <td>2356.13</td>\n",
       "      <td>224.53</td>\n",
       "      <td>12014.15</td>\n",
       "      <td>11988.14</td>\n",
       "      <td>26.01</td>\n",
       "      <td>0.0</td>\n",
       "      <td>organic</td>\n",
       "      <td>2018</td>\n",
       "      <td>WestTexNewMexico</td>\n",
       "    </tr>\n",
       "  </tbody>\n",
       "</table>\n",
       "</div>"
      ],
      "text/plain": [
       "       Unnamed: 0        Date  AveragePrice  Total Volume     4046     4225  \\\n",
       "18244           7  2018-02-04          1.63      17074.83  2046.96  1529.20   \n",
       "18245           8  2018-01-28          1.71      13888.04  1191.70  3431.50   \n",
       "18246           9  2018-01-21          1.87      13766.76  1191.92  2452.79   \n",
       "18247          10  2018-01-14          1.93      16205.22  1527.63  2981.04   \n",
       "18248          11  2018-01-07          1.62      17489.58  2894.77  2356.13   \n",
       "\n",
       "         4770  Total Bags  Small Bags  Large Bags  XLarge Bags     type  year  \\\n",
       "18244    0.00    13498.67    13066.82      431.85          0.0  organic  2018   \n",
       "18245    0.00     9264.84     8940.04      324.80          0.0  organic  2018   \n",
       "18246  727.94     9394.11     9351.80       42.31          0.0  organic  2018   \n",
       "18247  727.01    10969.54    10919.54       50.00          0.0  organic  2018   \n",
       "18248  224.53    12014.15    11988.14       26.01          0.0  organic  2018   \n",
       "\n",
       "                 region  \n",
       "18244  WestTexNewMexico  \n",
       "18245  WestTexNewMexico  \n",
       "18246  WestTexNewMexico  \n",
       "18247  WestTexNewMexico  \n",
       "18248  WestTexNewMexico  "
      ]
     },
     "execution_count": 35,
     "metadata": {},
     "output_type": "execute_result"
    }
   ],
   "source": [
    "df = pd.read_csv('avocado.csv')\n",
    "df.tail()"
   ]
  },
  {
   "cell_type": "code",
   "execution_count": 36,
   "metadata": {},
   "outputs": [
    {
     "name": "stdout",
     "output_type": "stream",
     "text": [
      "<class 'pandas.core.frame.DataFrame'>\n",
      "RangeIndex: 18249 entries, 0 to 18248\n",
      "Data columns (total 14 columns):\n",
      " #   Column        Non-Null Count  Dtype  \n",
      "---  ------        --------------  -----  \n",
      " 0   Unnamed: 0    18249 non-null  int64  \n",
      " 1   Date          18249 non-null  object \n",
      " 2   AveragePrice  18249 non-null  float64\n",
      " 3   Total Volume  18249 non-null  float64\n",
      " 4   4046          18249 non-null  float64\n",
      " 5   4225          18249 non-null  float64\n",
      " 6   4770          18249 non-null  float64\n",
      " 7   Total Bags    18249 non-null  float64\n",
      " 8   Small Bags    18249 non-null  float64\n",
      " 9   Large Bags    18249 non-null  float64\n",
      " 10  XLarge Bags   18249 non-null  float64\n",
      " 11  type          18249 non-null  object \n",
      " 12  year          18249 non-null  int64  \n",
      " 13  region        18249 non-null  object \n",
      "dtypes: float64(9), int64(2), object(3)\n",
      "memory usage: 1.9+ MB\n"
     ]
    }
   ],
   "source": [
    "df.info()"
   ]
  },
  {
   "cell_type": "code",
   "execution_count": 37,
   "metadata": {},
   "outputs": [
    {
     "data": {
      "text/plain": [
       "0         0\n",
       "1         1\n",
       "2         2\n",
       "3         3\n",
       "4         4\n",
       "         ..\n",
       "18244     7\n",
       "18245     8\n",
       "18246     9\n",
       "18247    10\n",
       "18248    11\n",
       "Name: Unnamed: 0, Length: 18249, dtype: int64"
      ]
     },
     "execution_count": 37,
     "metadata": {},
     "output_type": "execute_result"
    }
   ],
   "source": [
    "df.iloc[:,0]"
   ]
  },
  {
   "cell_type": "code",
   "execution_count": 38,
   "metadata": {},
   "outputs": [
    {
     "data": {
      "text/plain": [
       "Unnamed: 0      0\n",
       "Date            0\n",
       "AveragePrice    0\n",
       "Total Volume    0\n",
       "4046            0\n",
       "4225            0\n",
       "4770            0\n",
       "Total Bags      0\n",
       "Small Bags      0\n",
       "Large Bags      0\n",
       "XLarge Bags     0\n",
       "type            0\n",
       "year            0\n",
       "region          0\n",
       "dtype: int64"
      ]
     },
     "execution_count": 38,
     "metadata": {},
     "output_type": "execute_result"
    }
   ],
   "source": [
    "df.isna().sum()"
   ]
  },
  {
   "cell_type": "code",
   "execution_count": 39,
   "metadata": {},
   "outputs": [
    {
     "data": {
      "text/plain": [
       "0"
      ]
     },
     "execution_count": 39,
     "metadata": {},
     "output_type": "execute_result"
    }
   ],
   "source": [
    "df.duplicated().sum()\n"
   ]
  },
  {
   "cell_type": "code",
   "execution_count": 40,
   "metadata": {},
   "outputs": [
    {
     "data": {
      "text/plain": [
       "type\n",
       "conventional    9126\n",
       "organic         9123\n",
       "Name: count, dtype: int64"
      ]
     },
     "execution_count": 40,
     "metadata": {},
     "output_type": "execute_result"
    }
   ],
   "source": [
    "df['type'].value_counts()"
   ]
  },
  {
   "cell_type": "code",
   "execution_count": 41,
   "metadata": {},
   "outputs": [
    {
     "data": {
      "text/plain": [
       "54"
      ]
     },
     "execution_count": 41,
     "metadata": {},
     "output_type": "execute_result"
    }
   ],
   "source": [
    "df['region'].nunique()"
   ]
  },
  {
   "cell_type": "code",
   "execution_count": 42,
   "metadata": {},
   "outputs": [
    {
     "data": {
      "text/plain": [
       "169"
      ]
     },
     "execution_count": 42,
     "metadata": {},
     "output_type": "execute_result"
    }
   ],
   "source": [
    "df['Date'].nunique()"
   ]
  },
  {
   "cell_type": "markdown",
   "metadata": {},
   "source": [
    "Intial observation:\n",
    "- Data is collected from multiple outlets of Hass avocados sharing the dates from 2015 to 2018\n",
    "- No misssing or duplicate values\n",
    "- 'Unnamed : 0' column  will be  removed as it does not contain any useful information for our analysis.\n",
    "  \n"
   ]
  },
  {
   "cell_type": "code",
   "execution_count": 43,
   "metadata": {},
   "outputs": [
    {
     "data": {
      "text/html": [
       "<div>\n",
       "<style scoped>\n",
       "    .dataframe tbody tr th:only-of-type {\n",
       "        vertical-align: middle;\n",
       "    }\n",
       "\n",
       "    .dataframe tbody tr th {\n",
       "        vertical-align: top;\n",
       "    }\n",
       "\n",
       "    .dataframe thead th {\n",
       "        text-align: right;\n",
       "    }\n",
       "</style>\n",
       "<table border=\"1\" class=\"dataframe\">\n",
       "  <thead>\n",
       "    <tr style=\"text-align: right;\">\n",
       "      <th></th>\n",
       "      <th>Unnamed: 0</th>\n",
       "      <th>AveragePrice</th>\n",
       "      <th>Total Volume</th>\n",
       "      <th>4046</th>\n",
       "      <th>4225</th>\n",
       "      <th>4770</th>\n",
       "      <th>Total Bags</th>\n",
       "      <th>Small Bags</th>\n",
       "      <th>Large Bags</th>\n",
       "      <th>XLarge Bags</th>\n",
       "      <th>year</th>\n",
       "    </tr>\n",
       "  </thead>\n",
       "  <tbody>\n",
       "    <tr>\n",
       "      <th>count</th>\n",
       "      <td>18249.000000</td>\n",
       "      <td>18249.000000</td>\n",
       "      <td>1.824900e+04</td>\n",
       "      <td>1.824900e+04</td>\n",
       "      <td>1.824900e+04</td>\n",
       "      <td>1.824900e+04</td>\n",
       "      <td>1.824900e+04</td>\n",
       "      <td>1.824900e+04</td>\n",
       "      <td>1.824900e+04</td>\n",
       "      <td>18249.000000</td>\n",
       "      <td>18249.000000</td>\n",
       "    </tr>\n",
       "    <tr>\n",
       "      <th>mean</th>\n",
       "      <td>24.232232</td>\n",
       "      <td>1.405978</td>\n",
       "      <td>8.506440e+05</td>\n",
       "      <td>2.930084e+05</td>\n",
       "      <td>2.951546e+05</td>\n",
       "      <td>2.283974e+04</td>\n",
       "      <td>2.396392e+05</td>\n",
       "      <td>1.821947e+05</td>\n",
       "      <td>5.433809e+04</td>\n",
       "      <td>3106.426507</td>\n",
       "      <td>2016.147899</td>\n",
       "    </tr>\n",
       "    <tr>\n",
       "      <th>std</th>\n",
       "      <td>15.481045</td>\n",
       "      <td>0.402677</td>\n",
       "      <td>3.453545e+06</td>\n",
       "      <td>1.264989e+06</td>\n",
       "      <td>1.204120e+06</td>\n",
       "      <td>1.074641e+05</td>\n",
       "      <td>9.862424e+05</td>\n",
       "      <td>7.461785e+05</td>\n",
       "      <td>2.439660e+05</td>\n",
       "      <td>17692.894652</td>\n",
       "      <td>0.939938</td>\n",
       "    </tr>\n",
       "    <tr>\n",
       "      <th>min</th>\n",
       "      <td>0.000000</td>\n",
       "      <td>0.440000</td>\n",
       "      <td>8.456000e+01</td>\n",
       "      <td>0.000000e+00</td>\n",
       "      <td>0.000000e+00</td>\n",
       "      <td>0.000000e+00</td>\n",
       "      <td>0.000000e+00</td>\n",
       "      <td>0.000000e+00</td>\n",
       "      <td>0.000000e+00</td>\n",
       "      <td>0.000000</td>\n",
       "      <td>2015.000000</td>\n",
       "    </tr>\n",
       "    <tr>\n",
       "      <th>25%</th>\n",
       "      <td>10.000000</td>\n",
       "      <td>1.100000</td>\n",
       "      <td>1.083858e+04</td>\n",
       "      <td>8.540700e+02</td>\n",
       "      <td>3.008780e+03</td>\n",
       "      <td>0.000000e+00</td>\n",
       "      <td>5.088640e+03</td>\n",
       "      <td>2.849420e+03</td>\n",
       "      <td>1.274700e+02</td>\n",
       "      <td>0.000000</td>\n",
       "      <td>2015.000000</td>\n",
       "    </tr>\n",
       "    <tr>\n",
       "      <th>50%</th>\n",
       "      <td>24.000000</td>\n",
       "      <td>1.370000</td>\n",
       "      <td>1.073768e+05</td>\n",
       "      <td>8.645300e+03</td>\n",
       "      <td>2.906102e+04</td>\n",
       "      <td>1.849900e+02</td>\n",
       "      <td>3.974383e+04</td>\n",
       "      <td>2.636282e+04</td>\n",
       "      <td>2.647710e+03</td>\n",
       "      <td>0.000000</td>\n",
       "      <td>2016.000000</td>\n",
       "    </tr>\n",
       "    <tr>\n",
       "      <th>75%</th>\n",
       "      <td>38.000000</td>\n",
       "      <td>1.660000</td>\n",
       "      <td>4.329623e+05</td>\n",
       "      <td>1.110202e+05</td>\n",
       "      <td>1.502069e+05</td>\n",
       "      <td>6.243420e+03</td>\n",
       "      <td>1.107834e+05</td>\n",
       "      <td>8.333767e+04</td>\n",
       "      <td>2.202925e+04</td>\n",
       "      <td>132.500000</td>\n",
       "      <td>2017.000000</td>\n",
       "    </tr>\n",
       "    <tr>\n",
       "      <th>max</th>\n",
       "      <td>52.000000</td>\n",
       "      <td>3.250000</td>\n",
       "      <td>6.250565e+07</td>\n",
       "      <td>2.274362e+07</td>\n",
       "      <td>2.047057e+07</td>\n",
       "      <td>2.546439e+06</td>\n",
       "      <td>1.937313e+07</td>\n",
       "      <td>1.338459e+07</td>\n",
       "      <td>5.719097e+06</td>\n",
       "      <td>551693.650000</td>\n",
       "      <td>2018.000000</td>\n",
       "    </tr>\n",
       "  </tbody>\n",
       "</table>\n",
       "</div>"
      ],
      "text/plain": [
       "         Unnamed: 0  AveragePrice  Total Volume          4046          4225  \\\n",
       "count  18249.000000  18249.000000  1.824900e+04  1.824900e+04  1.824900e+04   \n",
       "mean      24.232232      1.405978  8.506440e+05  2.930084e+05  2.951546e+05   \n",
       "std       15.481045      0.402677  3.453545e+06  1.264989e+06  1.204120e+06   \n",
       "min        0.000000      0.440000  8.456000e+01  0.000000e+00  0.000000e+00   \n",
       "25%       10.000000      1.100000  1.083858e+04  8.540700e+02  3.008780e+03   \n",
       "50%       24.000000      1.370000  1.073768e+05  8.645300e+03  2.906102e+04   \n",
       "75%       38.000000      1.660000  4.329623e+05  1.110202e+05  1.502069e+05   \n",
       "max       52.000000      3.250000  6.250565e+07  2.274362e+07  2.047057e+07   \n",
       "\n",
       "               4770    Total Bags    Small Bags    Large Bags    XLarge Bags  \\\n",
       "count  1.824900e+04  1.824900e+04  1.824900e+04  1.824900e+04   18249.000000   \n",
       "mean   2.283974e+04  2.396392e+05  1.821947e+05  5.433809e+04    3106.426507   \n",
       "std    1.074641e+05  9.862424e+05  7.461785e+05  2.439660e+05   17692.894652   \n",
       "min    0.000000e+00  0.000000e+00  0.000000e+00  0.000000e+00       0.000000   \n",
       "25%    0.000000e+00  5.088640e+03  2.849420e+03  1.274700e+02       0.000000   \n",
       "50%    1.849900e+02  3.974383e+04  2.636282e+04  2.647710e+03       0.000000   \n",
       "75%    6.243420e+03  1.107834e+05  8.333767e+04  2.202925e+04     132.500000   \n",
       "max    2.546439e+06  1.937313e+07  1.338459e+07  5.719097e+06  551693.650000   \n",
       "\n",
       "               year  \n",
       "count  18249.000000  \n",
       "mean    2016.147899  \n",
       "std        0.939938  \n",
       "min     2015.000000  \n",
       "25%     2015.000000  \n",
       "50%     2016.000000  \n",
       "75%     2017.000000  \n",
       "max     2018.000000  "
      ]
     },
     "execution_count": 43,
     "metadata": {},
     "output_type": "execute_result"
    }
   ],
   "source": [
    "df.describe()"
   ]
  },
  {
   "cell_type": "code",
   "execution_count": 44,
   "metadata": {},
   "outputs": [
    {
     "data": {
      "text/plain": [
       "<seaborn.axisgrid.FacetGrid at 0x157c51f0c90>"
      ]
     },
     "execution_count": 44,
     "metadata": {},
     "output_type": "execute_result"
    },
    {
     "data": {
      "image/png": "[encoded data removed]",
      "text/plain": [
       "<Figure size 500x500 with 1 Axes>"
      ]
     },
     "metadata": {},
     "output_type": "display_data"
    }
   ],
   "source": [
    "import seaborn as sns\n",
    "sns.displot(df['AveragePrice'])"
   ]
  },
  {
   "cell_type": "code",
   "execution_count": 45,
   "metadata": {},
   "outputs": [
    {
     "data": {
      "text/plain": [
       "type\n",
       "conventional    1.158040\n",
       "organic         1.653999\n",
       "Name: AveragePrice, dtype: float64"
      ]
     },
     "execution_count": 45,
     "metadata": {},
     "output_type": "execute_result"
    }
   ],
   "source": [
    "# Average price by type\n",
    "df.groupby(by='type')['AveragePrice'].mean()"
   ]
  },
  {
   "cell_type": "code",
   "execution_count": 46,
   "metadata": {},
   "outputs": [
    {
     "data": {
      "text/plain": [
       "type\n",
       "conventional    2.22\n",
       "organic         3.25\n",
       "Name: AveragePrice, dtype: float64"
      ]
     },
     "execution_count": 46,
     "metadata": {},
     "output_type": "execute_result"
    }
   ],
   "source": [
    "# MAx average price by type\n",
    "df.groupby(by='type')['AveragePrice'].max()"
   ]
  },
  {
   "cell_type": "code",
   "execution_count": 47,
   "metadata": {},
   "outputs": [
    {
     "data": {
      "text/plain": [
       "type\n",
       "conventional    0.46\n",
       "organic         0.44\n",
       "Name: AveragePrice, dtype: float64"
      ]
     },
     "execution_count": 47,
     "metadata": {},
     "output_type": "execute_result"
    }
   ],
   "source": [
    "# Min average price by type\n",
    "df.groupby(by='type')['AveragePrice'].min()"
   ]
  },
  {
   "cell_type": "markdown",
   "metadata": {},
   "source": [
    "- So there is place where organic produce is cheaper than conventional produce"
   ]
  },
  {
   "cell_type": "code",
   "execution_count": 48,
   "metadata": {},
   "outputs": [
    {
     "data": {
      "text/plain": [
       "region\n",
       "CincinnatiDayton       0.44\n",
       "PhoenixTucson          0.46\n",
       "Detroit                0.48\n",
       "Nashville              0.51\n",
       "Houston                0.51\n",
       "Columbus               0.52\n",
       "WestTexNewMexico       0.52\n",
       "LosAngeles             0.53\n",
       "LasVegas               0.54\n",
       "Jacksonville           0.54\n",
       "Louisville             0.56\n",
       "Tampa                  0.56\n",
       "StLouis                0.58\n",
       "Orlando                0.58\n",
       "Boise                  0.58\n",
       "NewOrleansMobile       0.58\n",
       "MiamiFtLauderdale      0.59\n",
       "Denver                 0.60\n",
       "SanDiego               0.61\n",
       "Atlanta                0.62\n",
       "Southeast              0.62\n",
       "SouthCentral           0.62\n",
       "DallasFtWorth          0.65\n",
       "West                   0.66\n",
       "California             0.67\n",
       "Portland               0.68\n",
       "SouthCarolina          0.69\n",
       "Seattle                0.70\n",
       "Roanoke                0.70\n",
       "Chicago                0.70\n",
       "GreatLakes             0.73\n",
       "Spokane                0.74\n",
       "Plains                 0.76\n",
       "TotalUS                0.76\n",
       "Indianapolis           0.77\n",
       "GrandRapids            0.77\n",
       "NewYork                0.77\n",
       "RichmondNorfolk        0.78\n",
       "Charlotte              0.80\n",
       "SanFrancisco           0.84\n",
       "Albany                 0.85\n",
       "Boston                 0.85\n",
       "RaleighGreensboro      0.86\n",
       "HartfordSpringfield    0.86\n",
       "Sacramento             0.86\n",
       "Pittsburgh             0.87\n",
       "Northeast              0.87\n",
       "Philadelphia           0.91\n",
       "Midsouth               0.91\n",
       "HarrisburgScranton     0.91\n",
       "BaltimoreWashington    0.95\n",
       "NorthernNewEngland     0.95\n",
       "Syracuse               1.03\n",
       "BuffaloRochester       1.03\n",
       "Name: AveragePrice, dtype: float64"
      ]
     },
     "execution_count": 48,
     "metadata": {},
     "output_type": "execute_result"
    }
   ],
   "source": [
    "# Min average price by region\n",
    "df.groupby(by='region')['AveragePrice'].min().sort_values(ascending=True)"
   ]
  },
  {
   "cell_type": "code",
   "execution_count": 49,
   "metadata": {},
   "outputs": [
    {
     "data": {
      "text/plain": [
       "0.44"
      ]
     },
     "execution_count": 49,
     "metadata": {},
     "output_type": "execute_result"
    }
   ],
   "source": [
    "# Min average price for organic produce in CincinnatiDayton region\n",
    "df[(df['region'] == 'CincinnatiDayton') & (df['type'] == 'organic')]['AveragePrice'].min()\n"
   ]
  },
  {
   "cell_type": "code",
   "execution_count": 50,
   "metadata": {},
   "outputs": [
    {
     "data": {
      "text/plain": [
       "0.6"
      ]
     },
     "execution_count": 50,
     "metadata": {},
     "output_type": "execute_result"
    }
   ],
   "source": [
    "# Min average price for oconventional produce in CincinnatiDayton region\n",
    "df[(df['region'] == 'CincinnatiDayton') & (df['type'] == 'conventional')]['AveragePrice'].min()\n"
   ]
  },
  {
   "cell_type": "code",
   "execution_count": 51,
   "metadata": {},
   "outputs": [
    {
     "data": {
      "text/plain": [
       "region\n",
       "PhoenixTucson          0.46\n",
       "Houston                0.51\n",
       "WestTexNewMexico       0.52\n",
       "LosAngeles             0.53\n",
       "LasVegas               0.54\n",
       "Jacksonville           0.54\n",
       "Tampa                  0.56\n",
       "Boise                  0.58\n",
       "Orlando                0.58\n",
       "NewOrleansMobile       0.58\n",
       "MiamiFtLauderdale      0.59\n",
       "Denver                 0.60\n",
       "Nashville              0.60\n",
       "CincinnatiDayton       0.60\n",
       "SanDiego               0.61\n",
       "SouthCentral           0.62\n",
       "Southeast              0.62\n",
       "Detroit                0.65\n",
       "DallasFtWorth          0.65\n",
       "West                   0.66\n",
       "California             0.67\n",
       "Atlanta                0.68\n",
       "Portland               0.68\n",
       "SouthCarolina          0.69\n",
       "Columbus               0.69\n",
       "Chicago                0.70\n",
       "GreatLakes             0.73\n",
       "StLouis                0.74\n",
       "Spokane                0.74\n",
       "Seattle                0.75\n",
       "Louisville             0.75\n",
       "TotalUS                0.76\n",
       "Plains                 0.76\n",
       "NewYork                0.77\n",
       "Indianapolis           0.77\n",
       "GrandRapids            0.77\n",
       "RichmondNorfolk        0.78\n",
       "Charlotte              0.80\n",
       "Roanoke                0.81\n",
       "SanFrancisco           0.84\n",
       "Albany                 0.85\n",
       "Boston                 0.85\n",
       "RaleighGreensboro      0.86\n",
       "HartfordSpringfield    0.86\n",
       "Sacramento             0.86\n",
       "Pittsburgh             0.87\n",
       "Northeast              0.87\n",
       "Philadelphia           0.91\n",
       "Midsouth               0.91\n",
       "HarrisburgScranton     0.91\n",
       "NorthernNewEngland     0.95\n",
       "BaltimoreWashington    0.95\n",
       "Syracuse               1.03\n",
       "BuffaloRochester       1.04\n",
       "Name: AveragePrice, dtype: float64"
      ]
     },
     "execution_count": 51,
     "metadata": {},
     "output_type": "execute_result"
    }
   ],
   "source": [
    "# Min average price for coventional produce\n",
    "df[df['type'] == 'conventional'].groupby('region')['AveragePrice'].min().sort_values(ascending=True)"
   ]
  },
  {
   "cell_type": "code",
   "execution_count": 52,
   "metadata": {},
   "outputs": [
    {
     "data": {
      "text/plain": [
       "1.12"
      ]
     },
     "execution_count": 52,
     "metadata": {},
     "output_type": "execute_result"
    }
   ],
   "source": [
    "# Min average price for organic produce in PhoenixTucson\n",
    "df[(df['region'] == 'PhoenixTucson') & (df['type'] == 'organic')]['AveragePrice'].min()"
   ]
  },
  {
   "cell_type": "code",
   "execution_count": 53,
   "metadata": {},
   "outputs": [
    {
     "data": {
      "text/plain": [
       "region\n",
       "SanFrancisco           3.25\n",
       "Tampa                  3.17\n",
       "MiamiFtLauderdale      3.05\n",
       "RaleighGreensboro      3.04\n",
       "LasVegas               3.03\n",
       "Jacksonville           2.99\n",
       "Seattle                2.96\n",
       "Spokane                2.95\n",
       "WestTexNewMexico       2.93\n",
       "Orlando                2.87\n",
       "Portland               2.86\n",
       "StLouis                2.84\n",
       "Charlotte              2.83\n",
       "Sacramento             2.82\n",
       "Boise                  2.79\n",
       "Atlanta                2.75\n",
       "SanDiego               2.74\n",
       "GrandRapids            2.73\n",
       "HartfordSpringfield    2.68\n",
       "NewYork                2.65\n",
       "PhoenixTucson          2.62\n",
       "California             2.58\n",
       "BuffaloRochester       2.57\n",
       "West                   2.52\n",
       "Philadelphia           2.45\n",
       "Syracuse               2.44\n",
       "LosAngeles             2.44\n",
       "Southeast              2.33\n",
       "NewOrleansMobile       2.32\n",
       "Northeast              2.31\n",
       "Chicago                2.30\n",
       "Louisville             2.29\n",
       "BaltimoreWashington    2.28\n",
       "Roanoke                2.27\n",
       "HarrisburgScranton     2.27\n",
       "Nashville              2.24\n",
       "Columbus               2.22\n",
       "SouthCarolina          2.21\n",
       "CincinnatiDayton       2.20\n",
       "Boston                 2.19\n",
       "Midsouth               2.17\n",
       "Denver                 2.16\n",
       "Albany                 2.13\n",
       "Plains                 2.13\n",
       "Indianapolis           2.10\n",
       "TotalUS                2.09\n",
       "Detroit                2.08\n",
       "RichmondNorfolk        2.05\n",
       "NorthernNewEngland     1.96\n",
       "Houston                1.92\n",
       "DallasFtWorth          1.90\n",
       "GreatLakes             1.89\n",
       "Pittsburgh             1.83\n",
       "SouthCentral           1.81\n",
       "Name: AveragePrice, dtype: float64"
      ]
     },
     "execution_count": 53,
     "metadata": {},
     "output_type": "execute_result"
    }
   ],
   "source": [
    "# Max average price for organic produce\n",
    "df[df['type'] == 'organic'].groupby('region')['AveragePrice'].max().sort_values(ascending=False)"
   ]
  },
  {
   "cell_type": "code",
   "execution_count": 54,
   "metadata": {},
   "outputs": [
    {
     "data": {
      "text/plain": [
       "region\n",
       "Chicago                2.22\n",
       "SanFrancisco           2.20\n",
       "GrandRapids            2.19\n",
       "Seattle                2.07\n",
       "MiamiFtLauderdale      2.04\n",
       "Jacksonville           2.00\n",
       "Orlando                2.00\n",
       "NewYork                1.99\n",
       "GreatLakes             1.98\n",
       "Louisville             1.98\n",
       "Indianapolis           1.97\n",
       "Tampa                  1.96\n",
       "Detroit                1.94\n",
       "CincinnatiDayton       1.90\n",
       "Portland               1.90\n",
       "Spokane                1.89\n",
       "Philadelphia           1.89\n",
       "Boise                  1.89\n",
       "NorthernNewEngland     1.88\n",
       "Sacramento             1.87\n",
       "BaltimoreWashington    1.86\n",
       "HartfordSpringfield    1.85\n",
       "SanDiego               1.83\n",
       "StLouis                1.83\n",
       "Columbus               1.83\n",
       "Southeast              1.82\n",
       "Plains                 1.81\n",
       "Boston                 1.81\n",
       "LosAngeles             1.80\n",
       "Albany                 1.80\n",
       "California             1.78\n",
       "Charlotte              1.77\n",
       "Nashville              1.76\n",
       "Northeast              1.75\n",
       "NewOrleansMobile       1.72\n",
       "Midsouth               1.72\n",
       "BuffaloRochester       1.71\n",
       "Syracuse               1.71\n",
       "RaleighGreensboro      1.70\n",
       "SouthCarolina          1.69\n",
       "Roanoke                1.66\n",
       "TotalUS                1.65\n",
       "Atlanta                1.64\n",
       "LasVegas               1.64\n",
       "RichmondNorfolk        1.62\n",
       "West                   1.62\n",
       "Denver                 1.60\n",
       "Pittsburgh             1.60\n",
       "HarrisburgScranton     1.60\n",
       "SouthCentral           1.34\n",
       "PhoenixTucson          1.31\n",
       "DallasFtWorth          1.30\n",
       "Houston                1.29\n",
       "WestTexNewMexico       1.22\n",
       "Name: AveragePrice, dtype: float64"
      ]
     },
     "execution_count": 54,
     "metadata": {},
     "output_type": "execute_result"
    }
   ],
   "source": [
    "# Max average price for coventional produce\n",
    "df[df['type'] == 'conventional'].groupby('region')['AveragePrice'].max().sort_values(ascending=False)"
   ]
  },
  {
   "cell_type": "markdown",
   "metadata": {},
   "source": [
    "`Organic Produce`\n",
    "- CincinnatiDayton has the lowest average price for organic produce of 0.44 (USD)\n",
    "- SanFrancisco  has the highest average price for organic produce of 3.25 (USD)\n",
    "    \n",
    "`Convention Produce`\n",
    "- PhoenixTuscon has the lowest average price for conventional produce of 0.46 (USD)\n",
    "- Chicago has the highest average price for organic produce of 2.22 (USD)\n",
    "\n"
   ]
  },
  {
   "cell_type": "code",
   "execution_count": null,
   "metadata": {},
   "outputs": [],
   "source": []
  },
  {
   "cell_type": "markdown",
   "metadata": {},
   "source": [
    "## Data Preprocessing \n"
   ]
  },
  {
   "cell_type": "markdown",
   "metadata": {},
   "source": [
    "- Date column will be turned to months as we have year column already\n",
    "- Type and region column will encoded\n",
    "- Will drop the the unnamed column"
   ]
  },
  {
   "cell_type": "code",
   "execution_count": 55,
   "metadata": {},
   "outputs": [
    {
     "data": {
      "text/html": [
       "<div>\n",
       "<style scoped>\n",
       "    .dataframe tbody tr th:only-of-type {\n",
       "        vertical-align: middle;\n",
       "    }\n",
       "\n",
       "    .dataframe tbody tr th {\n",
       "        vertical-align: top;\n",
       "    }\n",
       "\n",
       "    .dataframe thead th {\n",
       "        text-align: right;\n",
       "    }\n",
       "</style>\n",
       "<table border=\"1\" class=\"dataframe\">\n",
       "  <thead>\n",
       "    <tr style=\"text-align: right;\">\n",
       "      <th></th>\n",
       "      <th>Date</th>\n",
       "      <th>AveragePrice</th>\n",
       "      <th>Total Volume</th>\n",
       "      <th>4046</th>\n",
       "      <th>4225</th>\n",
       "      <th>4770</th>\n",
       "      <th>Total Bags</th>\n",
       "      <th>Small Bags</th>\n",
       "      <th>Large Bags</th>\n",
       "      <th>XLarge Bags</th>\n",
       "      <th>type</th>\n",
       "      <th>year</th>\n",
       "      <th>region</th>\n",
       "    </tr>\n",
       "  </thead>\n",
       "  <tbody>\n",
       "    <tr>\n",
       "      <th>0</th>\n",
       "      <td>2015-12-27</td>\n",
       "      <td>1.33</td>\n",
       "      <td>64236.62</td>\n",
       "      <td>1036.74</td>\n",
       "      <td>54454.85</td>\n",
       "      <td>48.16</td>\n",
       "      <td>8696.87</td>\n",
       "      <td>8603.62</td>\n",
       "      <td>93.25</td>\n",
       "      <td>0.0</td>\n",
       "      <td>conventional</td>\n",
       "      <td>2015</td>\n",
       "      <td>Albany</td>\n",
       "    </tr>\n",
       "    <tr>\n",
       "      <th>1</th>\n",
       "      <td>2015-12-20</td>\n",
       "      <td>1.35</td>\n",
       "      <td>54876.98</td>\n",
       "      <td>674.28</td>\n",
       "      <td>44638.81</td>\n",
       "      <td>58.33</td>\n",
       "      <td>9505.56</td>\n",
       "      <td>9408.07</td>\n",
       "      <td>97.49</td>\n",
       "      <td>0.0</td>\n",
       "      <td>conventional</td>\n",
       "      <td>2015</td>\n",
       "      <td>Albany</td>\n",
       "    </tr>\n",
       "    <tr>\n",
       "      <th>2</th>\n",
       "      <td>2015-12-13</td>\n",
       "      <td>0.93</td>\n",
       "      <td>118220.22</td>\n",
       "      <td>794.70</td>\n",
       "      <td>109149.67</td>\n",
       "      <td>130.50</td>\n",
       "      <td>8145.35</td>\n",
       "      <td>8042.21</td>\n",
       "      <td>103.14</td>\n",
       "      <td>0.0</td>\n",
       "      <td>conventional</td>\n",
       "      <td>2015</td>\n",
       "      <td>Albany</td>\n",
       "    </tr>\n",
       "    <tr>\n",
       "      <th>3</th>\n",
       "      <td>2015-12-06</td>\n",
       "      <td>1.08</td>\n",
       "      <td>78992.15</td>\n",
       "      <td>1132.00</td>\n",
       "      <td>71976.41</td>\n",
       "      <td>72.58</td>\n",
       "      <td>5811.16</td>\n",
       "      <td>5677.40</td>\n",
       "      <td>133.76</td>\n",
       "      <td>0.0</td>\n",
       "      <td>conventional</td>\n",
       "      <td>2015</td>\n",
       "      <td>Albany</td>\n",
       "    </tr>\n",
       "    <tr>\n",
       "      <th>4</th>\n",
       "      <td>2015-11-29</td>\n",
       "      <td>1.28</td>\n",
       "      <td>51039.60</td>\n",
       "      <td>941.48</td>\n",
       "      <td>43838.39</td>\n",
       "      <td>75.78</td>\n",
       "      <td>6183.95</td>\n",
       "      <td>5986.26</td>\n",
       "      <td>197.69</td>\n",
       "      <td>0.0</td>\n",
       "      <td>conventional</td>\n",
       "      <td>2015</td>\n",
       "      <td>Albany</td>\n",
       "    </tr>\n",
       "    <tr>\n",
       "      <th>...</th>\n",
       "      <td>...</td>\n",
       "      <td>...</td>\n",
       "      <td>...</td>\n",
       "      <td>...</td>\n",
       "      <td>...</td>\n",
       "      <td>...</td>\n",
       "      <td>...</td>\n",
       "      <td>...</td>\n",
       "      <td>...</td>\n",
       "      <td>...</td>\n",
       "      <td>...</td>\n",
       "      <td>...</td>\n",
       "      <td>...</td>\n",
       "    </tr>\n",
       "    <tr>\n",
       "      <th>18244</th>\n",
       "      <td>2018-02-04</td>\n",
       "      <td>1.63</td>\n",
       "      <td>17074.83</td>\n",
       "      <td>2046.96</td>\n",
       "      <td>1529.20</td>\n",
       "      <td>0.00</td>\n",
       "      <td>13498.67</td>\n",
       "      <td>13066.82</td>\n",
       "      <td>431.85</td>\n",
       "      <td>0.0</td>\n",
       "      <td>organic</td>\n",
       "      <td>2018</td>\n",
       "      <td>WestTexNewMexico</td>\n",
       "    </tr>\n",
       "    <tr>\n",
       "      <th>18245</th>\n",
       "      <td>2018-01-28</td>\n",
       "      <td>1.71</td>\n",
       "      <td>13888.04</td>\n",
       "      <td>1191.70</td>\n",
       "      <td>3431.50</td>\n",
       "      <td>0.00</td>\n",
       "      <td>9264.84</td>\n",
       "      <td>8940.04</td>\n",
       "      <td>324.80</td>\n",
       "      <td>0.0</td>\n",
       "      <td>organic</td>\n",
       "      <td>2018</td>\n",
       "      <td>WestTexNewMexico</td>\n",
       "    </tr>\n",
       "    <tr>\n",
       "      <th>18246</th>\n",
       "      <td>2018-01-21</td>\n",
       "      <td>1.87</td>\n",
       "      <td>13766.76</td>\n",
       "      <td>1191.92</td>\n",
       "      <td>2452.79</td>\n",
       "      <td>727.94</td>\n",
       "      <td>9394.11</td>\n",
       "      <td>9351.80</td>\n",
       "      <td>42.31</td>\n",
       "      <td>0.0</td>\n",
       "      <td>organic</td>\n",
       "      <td>2018</td>\n",
       "      <td>WestTexNewMexico</td>\n",
       "    </tr>\n",
       "    <tr>\n",
       "      <th>18247</th>\n",
       "      <td>2018-01-14</td>\n",
       "      <td>1.93</td>\n",
       "      <td>16205.22</td>\n",
       "      <td>1527.63</td>\n",
       "      <td>2981.04</td>\n",
       "      <td>727.01</td>\n",
       "      <td>10969.54</td>\n",
       "      <td>10919.54</td>\n",
       "      <td>50.00</td>\n",
       "      <td>0.0</td>\n",
       "      <td>organic</td>\n",
       "      <td>2018</td>\n",
       "      <td>WestTexNewMexico</td>\n",
       "    </tr>\n",
       "    <tr>\n",
       "      <th>18248</th>\n",
       "      <td>2018-01-07</td>\n",
       "      <td>1.62</td>\n",
       "      <td>17489.58</td>\n",
       "      <td>2894.77</td>\n",
       "      <td>2356.13</td>\n",
       "      <td>224.53</td>\n",
       "      <td>12014.15</td>\n",
       "      <td>11988.14</td>\n",
       "      <td>26.01</td>\n",
       "      <td>0.0</td>\n",
       "      <td>organic</td>\n",
       "      <td>2018</td>\n",
       "      <td>WestTexNewMexico</td>\n",
       "    </tr>\n",
       "  </tbody>\n",
       "</table>\n",
       "<p>18249 rows × 13 columns</p>\n",
       "</div>"
      ],
      "text/plain": [
       "             Date  AveragePrice  Total Volume     4046       4225    4770  \\\n",
       "0      2015-12-27          1.33      64236.62  1036.74   54454.85   48.16   \n",
       "1      2015-12-20          1.35      54876.98   674.28   44638.81   58.33   \n",
       "2      2015-12-13          0.93     118220.22   794.70  109149.67  130.50   \n",
       "3      2015-12-06          1.08      78992.15  1132.00   71976.41   72.58   \n",
       "4      2015-11-29          1.28      51039.60   941.48   43838.39   75.78   \n",
       "...           ...           ...           ...      ...        ...     ...   \n",
       "18244  2018-02-04          1.63      17074.83  2046.96    1529.20    0.00   \n",
       "18245  2018-01-28          1.71      13888.04  1191.70    3431.50    0.00   \n",
       "18246  2018-01-21          1.87      13766.76  1191.92    2452.79  727.94   \n",
       "18247  2018-01-14          1.93      16205.22  1527.63    2981.04  727.01   \n",
       "18248  2018-01-07          1.62      17489.58  2894.77    2356.13  224.53   \n",
       "\n",
       "       Total Bags  Small Bags  Large Bags  XLarge Bags          type  year  \\\n",
       "0         8696.87     8603.62       93.25          0.0  conventional  2015   \n",
       "1         9505.56     9408.07       97.49          0.0  conventional  2015   \n",
       "2         8145.35     8042.21      103.14          0.0  conventional  2015   \n",
       "3         5811.16     5677.40      133.76          0.0  conventional  2015   \n",
       "4         6183.95     5986.26      197.69          0.0  conventional  2015   \n",
       "...           ...         ...         ...          ...           ...   ...   \n",
       "18244    13498.67    13066.82      431.85          0.0       organic  2018   \n",
       "18245     9264.84     8940.04      324.80          0.0       organic  2018   \n",
       "18246     9394.11     9351.80       42.31          0.0       organic  2018   \n",
       "18247    10969.54    10919.54       50.00          0.0       organic  2018   \n",
       "18248    12014.15    11988.14       26.01          0.0       organic  2018   \n",
       "\n",
       "                 region  \n",
       "0                Albany  \n",
       "1                Albany  \n",
       "2                Albany  \n",
       "3                Albany  \n",
       "4                Albany  \n",
       "...                 ...  \n",
       "18244  WestTexNewMexico  \n",
       "18245  WestTexNewMexico  \n",
       "18246  WestTexNewMexico  \n",
       "18247  WestTexNewMexico  \n",
       "18248  WestTexNewMexico  \n",
       "\n",
       "[18249 rows x 13 columns]"
      ]
     },
     "execution_count": 55,
     "metadata": {},
     "output_type": "execute_result"
    }
   ],
   "source": [
    "df.drop(df.columns[0],axis=1,inplace=True)\n",
    "df"
   ]
  },
  {
   "cell_type": "code",
   "execution_count": 56,
   "metadata": {},
   "outputs": [],
   "source": [
    "# Handling Date column\n",
    "df['Date'] = pd.to_datetime(df['Date'])\n",
    "df['Month'] = df['Date'].dt.month\n",
    "months = {\n",
    "    1: 'JAN',\n",
    "    2: 'FEB',\n",
    "    3: 'MARCH',\n",
    "    4: 'APRIL',\n",
    "    5: 'MAY',\n",
    "    6: 'JUNE',\n",
    "    7: 'JULY',\n",
    "    8: 'AUG',\n",
    "    9: 'SEPT',\n",
    "    10: 'OCT',\n",
    "    11: 'NOV',\n",
    "    12: 'DEC'\n",
    "}\n",
    "df['Month'] = df['Month'].map(months)\n",
    "\n",
    "# Droppig the original 'Date' column\n",
    "df.drop('Date', axis=1, inplace=True)"
   ]
  },
  {
   "cell_type": "code",
   "execution_count": 57,
   "metadata": {},
   "outputs": [],
   "source": [
    "\n",
    "# Encoding categorical features\n",
    "dummies = pd.get_dummies(df[['year','region','Month','type']],drop_first=True)\n",
    "df_dummies = pd.concat([df[['AveragePrice','Total Volume', '4046', '4225', '4770', 'Total Bags',\n",
    "       'Small Bags', 'Large Bags', 'XLarge Bags']],dummies],axis=1)\n"
   ]
  },
  {
   "cell_type": "code",
   "execution_count": 58,
   "metadata": {},
   "outputs": [
    {
     "data": {
      "text/plain": [
       "Index(['AveragePrice', 'Total Volume', '4046', '4225', '4770', 'Total Bags',\n",
       "       'Small Bags', 'Large Bags', 'XLarge Bags', 'year', 'region_Atlanta',\n",
       "       'region_BaltimoreWashington', 'region_Boise', 'region_Boston',\n",
       "       'region_BuffaloRochester', 'region_California', 'region_Charlotte',\n",
       "       'region_Chicago', 'region_CincinnatiDayton', 'region_Columbus',\n",
       "       'region_DallasFtWorth', 'region_Denver', 'region_Detroit',\n",
       "       'region_GrandRapids', 'region_GreatLakes', 'region_HarrisburgScranton',\n",
       "       'region_HartfordSpringfield', 'region_Houston', 'region_Indianapolis',\n",
       "       'region_Jacksonville', 'region_LasVegas', 'region_LosAngeles',\n",
       "       'region_Louisville', 'region_MiamiFtLauderdale', 'region_Midsouth',\n",
       "       'region_Nashville', 'region_NewOrleansMobile', 'region_NewYork',\n",
       "       'region_Northeast', 'region_NorthernNewEngland', 'region_Orlando',\n",
       "       'region_Philadelphia', 'region_PhoenixTucson', 'region_Pittsburgh',\n",
       "       'region_Plains', 'region_Portland', 'region_RaleighGreensboro',\n",
       "       'region_RichmondNorfolk', 'region_Roanoke', 'region_Sacramento',\n",
       "       'region_SanDiego', 'region_SanFrancisco', 'region_Seattle',\n",
       "       'region_SouthCarolina', 'region_SouthCentral', 'region_Southeast',\n",
       "       'region_Spokane', 'region_StLouis', 'region_Syracuse', 'region_Tampa',\n",
       "       'region_TotalUS', 'region_West', 'region_WestTexNewMexico', 'Month_AUG',\n",
       "       'Month_DEC', 'Month_FEB', 'Month_JAN', 'Month_JULY', 'Month_JUNE',\n",
       "       'Month_MARCH', 'Month_MAY', 'Month_NOV', 'Month_OCT', 'Month_SEPT',\n",
       "       'type_organic'],\n",
       "      dtype='object')"
      ]
     },
     "execution_count": 58,
     "metadata": {},
     "output_type": "execute_result"
    }
   ],
   "source": [
    "df_dummies.columns"
   ]
  },
  {
   "cell_type": "code",
   "execution_count": 59,
   "metadata": {},
   "outputs": [
    {
     "name": "stdout",
     "output_type": "stream",
     "text": [
      "<class 'pandas.core.frame.DataFrame'>\n",
      "RangeIndex: 18249 entries, 0 to 18248\n",
      "Data columns (total 75 columns):\n",
      " #   Column                      Non-Null Count  Dtype  \n",
      "---  ------                      --------------  -----  \n",
      " 0   AveragePrice                18249 non-null  float64\n",
      " 1   Total Volume                18249 non-null  float64\n",
      " 2   4046                        18249 non-null  float64\n",
      " 3   4225                        18249 non-null  float64\n",
      " 4   4770                        18249 non-null  float64\n",
      " 5   Total Bags                  18249 non-null  float64\n",
      " 6   Small Bags                  18249 non-null  float64\n",
      " 7   Large Bags                  18249 non-null  float64\n",
      " 8   XLarge Bags                 18249 non-null  float64\n",
      " 9   year                        18249 non-null  int64  \n",
      " 10  region_Atlanta              18249 non-null  bool   \n",
      " 11  region_BaltimoreWashington  18249 non-null  bool   \n",
      " 12  region_Boise                18249 non-null  bool   \n",
      " 13  region_Boston               18249 non-null  bool   \n",
      " 14  region_BuffaloRochester     18249 non-null  bool   \n",
      " 15  region_California           18249 non-null  bool   \n",
      " 16  region_Charlotte            18249 non-null  bool   \n",
      " 17  region_Chicago              18249 non-null  bool   \n",
      " 18  region_CincinnatiDayton     18249 non-null  bool   \n",
      " 19  region_Columbus             18249 non-null  bool   \n",
      " 20  region_DallasFtWorth        18249 non-null  bool   \n",
      " 21  region_Denver               18249 non-null  bool   \n",
      " 22  region_Detroit              18249 non-null  bool   \n",
      " 23  region_GrandRapids          18249 non-null  bool   \n",
      " 24  region_GreatLakes           18249 non-null  bool   \n",
      " 25  region_HarrisburgScranton   18249 non-null  bool   \n",
      " 26  region_HartfordSpringfield  18249 non-null  bool   \n",
      " 27  region_Houston              18249 non-null  bool   \n",
      " 28  region_Indianapolis         18249 non-null  bool   \n",
      " 29  region_Jacksonville         18249 non-null  bool   \n",
      " 30  region_LasVegas             18249 non-null  bool   \n",
      " 31  region_LosAngeles           18249 non-null  bool   \n",
      " 32  region_Louisville           18249 non-null  bool   \n",
      " 33  region_MiamiFtLauderdale    18249 non-null  bool   \n",
      " 34  region_Midsouth             18249 non-null  bool   \n",
      " 35  region_Nashville            18249 non-null  bool   \n",
      " 36  region_NewOrleansMobile     18249 non-null  bool   \n",
      " 37  region_NewYork              18249 non-null  bool   \n",
      " 38  region_Northeast            18249 non-null  bool   \n",
      " 39  region_NorthernNewEngland   18249 non-null  bool   \n",
      " 40  region_Orlando              18249 non-null  bool   \n",
      " 41  region_Philadelphia         18249 non-null  bool   \n",
      " 42  region_PhoenixTucson        18249 non-null  bool   \n",
      " 43  region_Pittsburgh           18249 non-null  bool   \n",
      " 44  region_Plains               18249 non-null  bool   \n",
      " 45  region_Portland             18249 non-null  bool   \n",
      " 46  region_RaleighGreensboro    18249 non-null  bool   \n",
      " 47  region_RichmondNorfolk      18249 non-null  bool   \n",
      " 48  region_Roanoke              18249 non-null  bool   \n",
      " 49  region_Sacramento           18249 non-null  bool   \n",
      " 50  region_SanDiego             18249 non-null  bool   \n",
      " 51  region_SanFrancisco         18249 non-null  bool   \n",
      " 52  region_Seattle              18249 non-null  bool   \n",
      " 53  region_SouthCarolina        18249 non-null  bool   \n",
      " 54  region_SouthCentral         18249 non-null  bool   \n",
      " 55  region_Southeast            18249 non-null  bool   \n",
      " 56  region_Spokane              18249 non-null  bool   \n",
      " 57  region_StLouis              18249 non-null  bool   \n",
      " 58  region_Syracuse             18249 non-null  bool   \n",
      " 59  region_Tampa                18249 non-null  bool   \n",
      " 60  region_TotalUS              18249 non-null  bool   \n",
      " 61  region_West                 18249 non-null  bool   \n",
      " 62  region_WestTexNewMexico     18249 non-null  bool   \n",
      " 63  Month_AUG                   18249 non-null  bool   \n",
      " 64  Month_DEC                   18249 non-null  bool   \n",
      " 65  Month_FEB                   18249 non-null  bool   \n",
      " 66  Month_JAN                   18249 non-null  bool   \n",
      " 67  Month_JULY                  18249 non-null  bool   \n",
      " 68  Month_JUNE                  18249 non-null  bool   \n",
      " 69  Month_MARCH                 18249 non-null  bool   \n",
      " 70  Month_MAY                   18249 non-null  bool   \n",
      " 71  Month_NOV                   18249 non-null  bool   \n",
      " 72  Month_OCT                   18249 non-null  bool   \n",
      " 73  Month_SEPT                  18249 non-null  bool   \n",
      " 74  type_organic                18249 non-null  bool   \n",
      "dtypes: bool(65), float64(9), int64(1)\n",
      "memory usage: 2.5 MB\n"
     ]
    }
   ],
   "source": [
    "df_dummies.info()"
   ]
  },
  {
   "cell_type": "code",
   "execution_count": 60,
   "metadata": {},
   "outputs": [],
   "source": [
    "# converting bool dtype to integers beforemodel training\n",
    "for i in df_dummies.columns:\n",
    "    if df_dummies[i].dtype == 'bool':\n",
    "        df_dummies[i] = df_dummies[i].astype(int)\n",
    "\n"
   ]
  },
  {
   "cell_type": "markdown",
   "metadata": {},
   "source": [
    "## 1. Regression Task\n",
    "### Description: To predict average price of avocados"
   ]
  },
  {
   "cell_type": "code",
   "execution_count": 61,
   "metadata": {},
   "outputs": [],
   "source": [
    "x = df_dummies.drop('AveragePrice',axis=1)\n",
    "y= df_dummies['AveragePrice']"
   ]
  },
  {
   "cell_type": "code",
   "execution_count": 62,
   "metadata": {},
   "outputs": [
    {
     "name": "stdout",
     "output_type": "stream",
     "text": [
      "<class 'pandas.core.frame.DataFrame'>\n",
      "RangeIndex: 18249 entries, 0 to 18248\n",
      "Data columns (total 74 columns):\n",
      " #   Column                      Non-Null Count  Dtype  \n",
      "---  ------                      --------------  -----  \n",
      " 0   Total Volume                18249 non-null  float64\n",
      " 1   4046                        18249 non-null  float64\n",
      " 2   4225                        18249 non-null  float64\n",
      " 3   4770                        18249 non-null  float64\n",
      " 4   Total Bags                  18249 non-null  float64\n",
      " 5   Small Bags                  18249 non-null  float64\n",
      " 6   Large Bags                  18249 non-null  float64\n",
      " 7   XLarge Bags                 18249 non-null  float64\n",
      " 8   year                        18249 non-null  int64  \n",
      " 9   region_Atlanta              18249 non-null  int32  \n",
      " 10  region_BaltimoreWashington  18249 non-null  int32  \n",
      " 11  region_Boise                18249 non-null  int32  \n",
      " 12  region_Boston               18249 non-null  int32  \n",
      " 13  region_BuffaloRochester     18249 non-null  int32  \n",
      " 14  region_California           18249 non-null  int32  \n",
      " 15  region_Charlotte            18249 non-null  int32  \n",
      " 16  region_Chicago              18249 non-null  int32  \n",
      " 17  region_CincinnatiDayton     18249 non-null  int32  \n",
      " 18  region_Columbus             18249 non-null  int32  \n",
      " 19  region_DallasFtWorth        18249 non-null  int32  \n",
      " 20  region_Denver               18249 non-null  int32  \n",
      " 21  region_Detroit              18249 non-null  int32  \n",
      " 22  region_GrandRapids          18249 non-null  int32  \n",
      " 23  region_GreatLakes           18249 non-null  int32  \n",
      " 24  region_HarrisburgScranton   18249 non-null  int32  \n",
      " 25  region_HartfordSpringfield  18249 non-null  int32  \n",
      " 26  region_Houston              18249 non-null  int32  \n",
      " 27  region_Indianapolis         18249 non-null  int32  \n",
      " 28  region_Jacksonville         18249 non-null  int32  \n",
      " 29  region_LasVegas             18249 non-null  int32  \n",
      " 30  region_LosAngeles           18249 non-null  int32  \n",
      " 31  region_Louisville           18249 non-null  int32  \n",
      " 32  region_MiamiFtLauderdale    18249 non-null  int32  \n",
      " 33  region_Midsouth             18249 non-null  int32  \n",
      " 34  region_Nashville            18249 non-null  int32  \n",
      " 35  region_NewOrleansMobile     18249 non-null  int32  \n",
      " 36  region_NewYork              18249 non-null  int32  \n",
      " 37  region_Northeast            18249 non-null  int32  \n",
      " 38  region_NorthernNewEngland   18249 non-null  int32  \n",
      " 39  region_Orlando              18249 non-null  int32  \n",
      " 40  region_Philadelphia         18249 non-null  int32  \n",
      " 41  region_PhoenixTucson        18249 non-null  int32  \n",
      " 42  region_Pittsburgh           18249 non-null  int32  \n",
      " 43  region_Plains               18249 non-null  int32  \n",
      " 44  region_Portland             18249 non-null  int32  \n",
      " 45  region_RaleighGreensboro    18249 non-null  int32  \n",
      " 46  region_RichmondNorfolk      18249 non-null  int32  \n",
      " 47  region_Roanoke              18249 non-null  int32  \n",
      " 48  region_Sacramento           18249 non-null  int32  \n",
      " 49  region_SanDiego             18249 non-null  int32  \n",
      " 50  region_SanFrancisco         18249 non-null  int32  \n",
      " 51  region_Seattle              18249 non-null  int32  \n",
      " 52  region_SouthCarolina        18249 non-null  int32  \n",
      " 53  region_SouthCentral         18249 non-null  int32  \n",
      " 54  region_Southeast            18249 non-null  int32  \n",
      " 55  region_Spokane              18249 non-null  int32  \n",
      " 56  region_StLouis              18249 non-null  int32  \n",
      " 57  region_Syracuse             18249 non-null  int32  \n",
      " 58  region_Tampa                18249 non-null  int32  \n",
      " 59  region_TotalUS              18249 non-null  int32  \n",
      " 60  region_West                 18249 non-null  int32  \n",
      " 61  region_WestTexNewMexico     18249 non-null  int32  \n",
      " 62  Month_AUG                   18249 non-null  int32  \n",
      " 63  Month_DEC                   18249 non-null  int32  \n",
      " 64  Month_FEB                   18249 non-null  int32  \n",
      " 65  Month_JAN                   18249 non-null  int32  \n",
      " 66  Month_JULY                  18249 non-null  int32  \n",
      " 67  Month_JUNE                  18249 non-null  int32  \n",
      " 68  Month_MARCH                 18249 non-null  int32  \n",
      " 69  Month_MAY                   18249 non-null  int32  \n",
      " 70  Month_NOV                   18249 non-null  int32  \n",
      " 71  Month_OCT                   18249 non-null  int32  \n",
      " 72  Month_SEPT                  18249 non-null  int32  \n",
      " 73  type_organic                18249 non-null  int32  \n",
      "dtypes: float64(8), int32(65), int64(1)\n",
      "memory usage: 5.8 MB\n"
     ]
    }
   ],
   "source": [
    "x.info()"
   ]
  },
  {
   "cell_type": "code",
   "execution_count": 63,
   "metadata": {},
   "outputs": [],
   "source": [
    "# Splitting data into training and test set\n",
    "from sklearn.model_selection import train_test_split\n",
    "x_train, x_test, y_train, y_test = train_test_split(x,y,test_size=0.20)\n",
    "\n",
    "# Standardizing the data\n",
    "cols_to_std = ['Total Volume', '4046', '4225', '4770', 'Total Bags', 'Small Bags','Large Bags', 'XLarge Bags']\n",
    "from sklearn.preprocessing import StandardScaler\n",
    "scaler=StandardScaler()\n",
    "scaler.fit(x_train[cols_to_std])\n",
    "x_train[cols_to_std] = scaler.transform(x_train[cols_to_std])\n",
    "x_test[cols_to_std] = scaler.transform(x_test[cols_to_std])"
   ]
  },
  {
   "cell_type": "markdown",
   "metadata": {},
   "source": [
    "## Model Training and evaluation"
   ]
  },
  {
   "cell_type": "code",
   "execution_count": 64,
   "metadata": {},
   "outputs": [
    {
     "data": {
      "text/html": [
       "<div>\n",
       "<style scoped>\n",
       "    .dataframe tbody tr th:only-of-type {\n",
       "        vertical-align: middle;\n",
       "    }\n",
       "\n",
       "    .dataframe tbody tr th {\n",
       "        vertical-align: top;\n",
       "    }\n",
       "\n",
       "    .dataframe thead th {\n",
       "        text-align: right;\n",
       "    }\n",
       "</style>\n",
       "<table border=\"1\" class=\"dataframe\">\n",
       "  <thead>\n",
       "    <tr style=\"text-align: right;\">\n",
       "      <th></th>\n",
       "      <th>Regressors</th>\n",
       "      <th>MSE</th>\n",
       "      <th>R2</th>\n",
       "    </tr>\n",
       "  </thead>\n",
       "  <tbody>\n",
       "    <tr>\n",
       "      <th>0</th>\n",
       "      <td>LinearRegression</td>\n",
       "      <td>0.058805</td>\n",
       "      <td>0.616140</td>\n",
       "    </tr>\n",
       "    <tr>\n",
       "      <th>1</th>\n",
       "      <td>Ridge</td>\n",
       "      <td>0.058857</td>\n",
       "      <td>0.615798</td>\n",
       "    </tr>\n",
       "    <tr>\n",
       "      <th>2</th>\n",
       "      <td>Lasso</td>\n",
       "      <td>0.153198</td>\n",
       "      <td>-0.000031</td>\n",
       "    </tr>\n",
       "    <tr>\n",
       "      <th>3</th>\n",
       "      <td>ElasticNet</td>\n",
       "      <td>0.153198</td>\n",
       "      <td>-0.000031</td>\n",
       "    </tr>\n",
       "    <tr>\n",
       "      <th>4</th>\n",
       "      <td>DecisionTreeRegressor</td>\n",
       "      <td>0.037078</td>\n",
       "      <td>0.757968</td>\n",
       "    </tr>\n",
       "    <tr>\n",
       "      <th>5</th>\n",
       "      <td>RandomForestRegressor</td>\n",
       "      <td>0.016610</td>\n",
       "      <td>0.891573</td>\n",
       "    </tr>\n",
       "    <tr>\n",
       "      <th>6</th>\n",
       "      <td>AdaBoostRegressor</td>\n",
       "      <td>0.075383</td>\n",
       "      <td>0.507925</td>\n",
       "    </tr>\n",
       "    <tr>\n",
       "      <th>7</th>\n",
       "      <td>GradientBoostingRegressor</td>\n",
       "      <td>0.043000</td>\n",
       "      <td>0.719312</td>\n",
       "    </tr>\n",
       "    <tr>\n",
       "      <th>8</th>\n",
       "      <td>SVR</td>\n",
       "      <td>0.152753</td>\n",
       "      <td>0.002875</td>\n",
       "    </tr>\n",
       "    <tr>\n",
       "      <th>9</th>\n",
       "      <td>KNeighborsRegressor</td>\n",
       "      <td>0.028125</td>\n",
       "      <td>0.816408</td>\n",
       "    </tr>\n",
       "  </tbody>\n",
       "</table>\n",
       "</div>"
      ],
      "text/plain": [
       "                  Regressors       MSE        R2\n",
       "0           LinearRegression  0.058805  0.616140\n",
       "1                      Ridge  0.058857  0.615798\n",
       "2                      Lasso  0.153198 -0.000031\n",
       "3                 ElasticNet  0.153198 -0.000031\n",
       "4      DecisionTreeRegressor  0.037078  0.757968\n",
       "5      RandomForestRegressor  0.016610  0.891573\n",
       "6          AdaBoostRegressor  0.075383  0.507925\n",
       "7  GradientBoostingRegressor  0.043000  0.719312\n",
       "8                        SVR  0.152753  0.002875\n",
       "9        KNeighborsRegressor  0.028125  0.816408"
      ]
     },
     "execution_count": 64,
     "metadata": {},
     "output_type": "execute_result"
    }
   ],
   "source": [
    "from sklearn.linear_model import LinearRegression\n",
    "from sklearn.linear_model import Ridge\n",
    "from sklearn.linear_model import Lasso\n",
    "from sklearn.linear_model import ElasticNet\n",
    "from sklearn.tree import DecisionTreeRegressor\n",
    "from sklearn.ensemble import RandomForestRegressor\n",
    "from sklearn.ensemble import AdaBoostRegressor\n",
    "from sklearn.ensemble import GradientBoostingRegressor\n",
    "from sklearn.svm import SVR\n",
    "from sklearn.neighbors import KNeighborsRegressor\n",
    "from sklearn.metrics import r2_score\n",
    "from sklearn.metrics import mean_squared_error\n",
    "\n",
    "regressor_models={    \n",
    "    'LinearRegression':LinearRegression(),\n",
    "    'Ridge':Ridge(),\n",
    "    'Lasso':Lasso(),\n",
    "    'ElasticNet':ElasticNet(),\n",
    "    'DecisionTreeRegressor':DecisionTreeRegressor(),\n",
    "    'RandomForestRegressor':RandomForestRegressor(),\n",
    "    'AdaBoostRegressor':AdaBoostRegressor(),\n",
    "    'GradientBoostingRegressor':GradientBoostingRegressor(),\n",
    "    'SVR':SVR(),\n",
    "    'KNeighborsRegressor':KNeighborsRegressor()    \n",
    "}\n",
    "\n",
    "mse_scores = []\n",
    "\n",
    "r2_scores = []\n",
    "\n",
    "\n",
    "for regressor in regressor_models:\n",
    "    regressor_name = regressor\n",
    "    model = regressor_models[regressor]\n",
    "    model.fit(x_train,y_train)\n",
    "    y_pred = model.predict(x_test)\n",
    "\n",
    "    # Getting MSE and R2 scores\n",
    "    mse = mean_squared_error(y_test,y_pred)\n",
    "    r2 = r2_score(y_test,y_pred)\n",
    "\n",
    "\n",
    "    # Storing Average MSE and R2 scores for each model\n",
    "    mse_scores.append(mse)\n",
    "    r2_scores.append(r2)\n",
    "\n",
    "\n",
    "Report = {\"Regressors\":regressor_models.keys(),\"MSE\": mse_scores,\"R2\":r2_scores} \n",
    "pd.DataFrame(Report)\n"
   ]
  },
  {
   "cell_type": "markdown",
   "metadata": {},
   "source": [
    "- According to the report Random Forest Regressor is working best with this perticular dataset as it has highest R2 score and lowest MSE score."
   ]
  },
  {
   "cell_type": "markdown",
   "metadata": {},
   "source": [
    "## Hyperparameter tunning the Ramdon forest regessor."
   ]
  },
  {
   "cell_type": "code",
   "execution_count": 65,
   "metadata": {},
   "outputs": [
    {
     "name": "stdout",
     "output_type": "stream",
     "text": [
      "Best Hyperparameters: {'max_depth': None, 'n_estimators': 300}\n",
      "Mean Squared Error (MSE): 0.016357495855707768\n",
      "R-squared Score (R2 Score): 0.8932232849896954\n"
     ]
    }
   ],
   "source": [
    "from sklearn.model_selection import GridSearchCV\n",
    "\n",
    "param_grid = {\n",
    "    'n_estimators': [100, 200, 300],\n",
    "    'max_depth': [None, 5, 10]\n",
    "}\n",
    "\n",
    "\n",
    "rf = RandomForestRegressor()\n",
    "\n",
    "# Perform Grid Search to find the best hyperparameters\n",
    "grid_search = GridSearchCV(estimator=rf, param_grid=param_grid, cv=5)\n",
    "grid_search.fit(x_train, y_train)\n",
    "\n",
    "# Get the best hyperparameters and model\n",
    "best_params = grid_search.best_params_\n",
    "best_model = grid_search.best_estimator_\n",
    "\n",
    "# Make predictions on the testing data using the best model\n",
    "y_pred = best_model.predict(x_test)\n",
    "\n",
    "# Calculate evaluation metrics using the best model\n",
    "mse = mean_squared_error(y_test, y_pred)\n",
    "r2 = r2_score(y_test, y_pred)\n",
    "\n",
    "# Print the best hyperparameters and evaluation metrics\n",
    "print('Best Hyperparameters:', best_params)\n",
    "print('Mean Squared Error (MSE):', mse)\n",
    "print('R-squared Score (R2 Score):', r2)"
   ]
  },
  {
   "cell_type": "code",
   "execution_count": 66,
   "metadata": {},
   "outputs": [
    {
     "data": {
      "text/plain": [
       "['random_forest_regressor_model.pkl']"
      ]
     },
     "execution_count": 66,
     "metadata": {},
     "output_type": "execute_result"
    }
   ],
   "source": [
    "# Saving the model\n",
    "import joblib\n",
    "joblib.dump(best_model,'random_forest_regressor_model.pkl')"
   ]
  },
  {
   "cell_type": "markdown",
   "metadata": {},
   "source": [
    "## 2. Classification Task\n",
    "### Description: To predict type of produce from the dataset"
   ]
  },
  {
   "cell_type": "code",
   "execution_count": 67,
   "metadata": {},
   "outputs": [],
   "source": [
    "# Encoding categorical features\n",
    "dummies = pd.get_dummies(df[['year','region','Month']],drop_first=True)\n",
    "df_dummies = pd.concat([df[['AveragePrice','Total Volume', '4046', '4225', '4770', 'Total Bags',\n",
    "       'Small Bags', 'Large Bags', 'XLarge Bags','type']],dummies],axis=1)\n",
    "\n",
    "# converting bool dtype to integers beforemodel training\n",
    "for i in df_dummies.columns:\n",
    "    if df_dummies[i].dtype == 'bool':\n",
    "        df_dummies[i] = df_dummies[i].astype(int)\n"
   ]
  },
  {
   "cell_type": "code",
   "execution_count": 68,
   "metadata": {},
   "outputs": [],
   "source": [
    "# encoding type column\n",
    "from sklearn.preprocessing import LabelEncoder\n",
    "le= LabelEncoder()\n",
    "df_dummies['type_encoded'] = le.fit_transform(df_dummies['type'])"
   ]
  },
  {
   "cell_type": "code",
   "execution_count": 69,
   "metadata": {},
   "outputs": [],
   "source": [
    "x = df_dummies.drop(columns=['type','type_encoded'],axis=1)\n",
    "y= df_dummies['type_encoded']"
   ]
  },
  {
   "cell_type": "code",
   "execution_count": 70,
   "metadata": {},
   "outputs": [],
   "source": [
    "# Splitting data into training and test set\n",
    "from sklearn.model_selection import train_test_split\n",
    "x_train, x_test, y_train, y_test = train_test_split(x,y,test_size=0.20)\n",
    "\n",
    "# Standardizing the data\n",
    "cols_to_std = ['Total Volume', '4046', '4225', '4770', 'Total Bags', 'Small Bags','Large Bags', 'XLarge Bags']\n",
    "from sklearn.preprocessing import StandardScaler\n",
    "scaler=StandardScaler()\n",
    "scaler.fit(x_train[cols_to_std])\n",
    "x_train[cols_to_std] = scaler.transform(x_train[cols_to_std])\n",
    "x_test[cols_to_std] = scaler.transform(x_test[cols_to_std])"
   ]
  },
  {
   "cell_type": "markdown",
   "metadata": {},
   "source": [
    "## Model training and evaluation"
   ]
  },
  {
   "cell_type": "code",
   "execution_count": 71,
   "metadata": {},
   "outputs": [
    {
     "name": "stdout",
     "output_type": "stream",
     "text": [
      "Random Forest Accuracy: 0.9991780821917808\n",
      "K-Nearest Neighbors Accuracy: 0.7621917808219179\n",
      "SVM Accuracy: 0.4950684931506849\n",
      "Decision Tree Accuracy: 0.9975342465753425\n",
      "Logistic Regression Accuracy: 0.9613698630136986\n",
      "Naive Bayes Accuracy: 0.8663013698630136\n"
     ]
    },
    {
     "data": {
      "image/png": "[encoded data removed]",
      "text/plain": [
       "<Figure size 1000x600 with 1 Axes>"
      ]
     },
     "metadata": {},
     "output_type": "display_data"
    }
   ],
   "source": [
    "from sklearn.ensemble import RandomForestClassifier\n",
    "from sklearn.neighbors import KNeighborsClassifier\n",
    "from sklearn.svm import SVC\n",
    "from sklearn.tree import DecisionTreeClassifier\n",
    "from sklearn.linear_model import LogisticRegression\n",
    "from sklearn.naive_bayes import GaussianNB\n",
    "from sklearn.metrics import accuracy_score\n",
    "\n",
    "classifier_model = {\n",
    "    'Random Forest': RandomForestClassifier(),\n",
    "    'K-Nearest Neighbors': KNeighborsClassifier(),\n",
    "    'SVM': SVC(),\n",
    "    'Decision Tree': DecisionTreeClassifier(),\n",
    "    'Logistic Regression': LogisticRegression(),\n",
    "    'Naive Bayes': GaussianNB()\n",
    "} \n",
    "classifier_names = []\n",
    "accuracy_scores = []\n",
    "\n",
    "for classifier in classifier_model:\n",
    "    classifier_name=classifier\n",
    "    model = classifier_model[classifier] \n",
    "    model.fit(x_train, y_train)\n",
    "    y_pred = model.predict(x_test)\n",
    "    accuracy = accuracy_score(y_test, y_pred)\n",
    "    classifier_names.append(classifier_name)\n",
    "    accuracy_scores.append(accuracy)\n",
    "    print(f\"{classifier_name} Accuracy: {accuracy}\")\n",
    "    \n",
    "\n",
    "# Plot classifier performance\n",
    "plt.figure(figsize=(10, 6))\n",
    "plt.bar(classifier_names, accuracy_scores)\n",
    "plt.xlabel('Classifier')\n",
    "plt.ylabel('Accuracy')\n",
    "plt.title('Classifier Performance')\n",
    "plt.xticks(rotation=45)\n",
    "plt.ylim(0, 1)\n",
    "plt.show()    "
   ]
  },
  {
   "cell_type": "markdown",
   "metadata": {},
   "source": [
    "## HyperParameter tunning the RF classifier"
   ]
  },
  {
   "cell_type": "code",
   "execution_count": 72,
   "metadata": {},
   "outputs": [
    {
     "name": "stdout",
     "output_type": "stream",
     "text": [
      "Best Parameters: {'max_depth': None, 'n_estimators': 100}\n",
      "Best Score: 0.9987670059646998\n",
      "Test Accuracy: 0.9991780821917808\n"
     ]
    }
   ],
   "source": [
    "from sklearn.model_selection import GridSearchCV\n",
    "\n",
    "param_grid = {\n",
    "    'n_estimators': [100, 200, 300],\n",
    "    'max_depth': [None, 5, 10]\n",
    "}\n",
    "\n",
    "rf_classifier = RandomForestClassifier(random_state=42)\n",
    "grid_search = GridSearchCV(estimator=rf_classifier, param_grid=param_grid, cv=5)\n",
    "grid_search.fit(x_train, y_train)\n",
    "\n",
    "# Getting the best parameter\n",
    "best_params = grid_search.best_params_\n",
    "best_score = grid_search.best_score_\n",
    "print(\"Best Parameters:\", best_params)\n",
    "print(\"Best Score:\", best_score)\n",
    "\n",
    "# Training with best parameter\n",
    "best_classifier = RandomForestClassifier(random_state=42, **best_params)\n",
    "best_classifier.fit(x_train, y_train)\n",
    "\n",
    "# Predicition\n",
    "y_pred = best_classifier.predict(x_test)\n",
    "accuracy = accuracy_score(y_test, y_pred)\n",
    "print(\"Test Accuracy:\", accuracy)"
   ]
  },
  {
   "cell_type": "code",
   "execution_count": 73,
   "metadata": {},
   "outputs": [
    {
     "data": {
      "image/png": "[encoded data removed]",
      "text/plain": [
       "<Figure size 1000x600 with 2 Axes>"
      ]
     },
     "metadata": {},
     "output_type": "display_data"
    },
    {
     "name": "stdout",
     "output_type": "stream",
     "text": [
      "              precision    recall  f1-score   support\n",
      "\n",
      "           0       1.00      1.00      1.00      1843\n",
      "           1       1.00      1.00      1.00      1807\n",
      "\n",
      "    accuracy                           1.00      3650\n",
      "   macro avg       1.00      1.00      1.00      3650\n",
      "weighted avg       1.00      1.00      1.00      3650\n",
      "\n"
     ]
    }
   ],
   "source": [
    "from sklearn.metrics import confusion_matrix,classification_report\n",
    "\n",
    "# plot confusion matrix \n",
    "fig = plt.figure(figsize=(10, 6))\n",
    "sns.heatmap(confusion_matrix(y_test, y_pred), annot=True, fmt='d', cmap='Blues')\n",
    "plt.title('Confusion Matrix')\n",
    "plt.xlabel('Predicted')\n",
    "plt.ylabel('Actual')\n",
    "plt.show()\n",
    "\n",
    "\n",
    "# Classification Report\n",
    "report = classification_report(y_test, y_pred)\n",
    "print(report)"
   ]
  },
  {
   "cell_type": "code",
   "execution_count": 74,
   "metadata": {},
   "outputs": [
    {
     "data": {
      "text/plain": [
       "['random_forest_classifier_model.pkl']"
      ]
     },
     "execution_count": 74,
     "metadata": {},
     "output_type": "execute_result"
    }
   ],
   "source": [
    "# Saving the model\n",
    "import joblib\n",
    "joblib.dump(best_classifier,'random_forest_classifier_model.pkl')"
   ]
  }
 ],
 "metadata": {
  "kernelspec": {
   "display_name": "python_ml",
   "language": "python",
   "name": "python3"
  },
  "language_info": {
   "codemirror_mode": {
    "name": "ipython",
    "version": 3
   },
   "file_extension": ".py",
   "mimetype": "text/x-python",
   "name": "python",
   "nbconvert_exporter": "python",
   "pygments_lexer": "ipython3",
   "version": "3.11.7"
  }
 },
 "nbformat": 4,
 "nbformat_minor": 2
}
