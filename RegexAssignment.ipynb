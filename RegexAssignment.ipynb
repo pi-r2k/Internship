{
 "cells": [
  {
   "cell_type": "code",
   "execution_count": 1,
   "id": "b0653991-9c16-420b-a7bd-76b868dc80e5",
   "metadata": {
    "tags": []
   },
   "outputs": [],
   "source": [
    "import re"
   ]
  },
  {
   "cell_type": "markdown",
   "id": "28377023-a497-4f4f-879f-5d9d44f7454b",
   "metadata": {},
   "source": [
    "**Question 1- Write a Python program to replace all occurrences of a space, comma, or dot with a colon.  \n",
    "Sample Text- 'Python Exercises, PHP exercises.'  \n",
    "Expected Output: Python:Exercises::PHP:exercises:**"
   ]
  },
  {
   "cell_type": "code",
   "execution_count": 2,
   "id": "2bd7e5da-fb5f-443a-8496-9521429126e8",
   "metadata": {
    "tags": []
   },
   "outputs": [
    {
     "name": "stdout",
     "output_type": "stream",
     "text": [
      "Python:Exercises::PHP:exercises:\n"
     ]
    }
   ],
   "source": [
    "Sample_Text='Python Exercises, PHP exercises.'\n",
    "pattern=\"[\\s.,]\"\n",
    "result=re.sub(pattern,\":\",Sample_Text)\n",
    "print(result)"
   ]
  },
  {
   "cell_type": "markdown",
   "id": "a32cd49f-d891-4927-878a-41f99b43ac2e",
   "metadata": {
    "tags": []
   },
   "source": [
    "**Question 2-  Write a Python program to find all words starting with 'a' or 'e' in a given string.**"
   ]
  },
  {
   "cell_type": "code",
   "execution_count": 5,
   "id": "bb5d83d8-ac11-4c32-9561-98ff42aec7a7",
   "metadata": {
    "tags": []
   },
   "outputs": [
    {
     "name": "stdout",
     "output_type": "stream",
     "text": [
      "['Aron', 'errand', 'Evening', 'eggs', 'and', 'apples']\n"
     ]
    }
   ],
   "source": [
    "Sample_Text='Aron can you run some errand in the Evening for a crate of eggs and couple of apples?'\n",
    "pattern=r'\\b[aAeE]\\w+\\b'\n",
    "result=re.findall(pattern,Sample_Text)\n",
    "print(result)"
   ]
  },
  {
   "cell_type": "markdown",
   "id": "6c2b5abd-500c-4a5c-b3c3-ef8bbdc6f325",
   "metadata": {},
   "source": [
    "**Question 3- Create a function in python to find all words that are at least 4 characters long in a string. The use of the re.compile() method is mandatory.**"
   ]
  },
  {
   "cell_type": "code",
   "execution_count": 6,
   "id": "38f16916-3fff-468f-9b60-fa4fce2e93d3",
   "metadata": {
    "tags": []
   },
   "outputs": [
    {
     "name": "stdout",
     "output_type": "stream",
     "text": [
      "['Aron', 'some', 'errand', 'Evening', 'crate', 'eggs', 'couple', 'apples']\n"
     ]
    }
   ],
   "source": [
    "def FourORmore(string):\n",
    "    Reg_pattern=re.compile('\\w{4,}')\n",
    "    result=Reg_pattern.findall(string)\n",
    "    print(result)\n",
    "\n",
    "Sample_Text='Aron can you run some errand in the Evening for a crate of eggs and couple of apples?'\n",
    "FourORmore(Sample_Text)"
   ]
  },
  {
   "cell_type": "markdown",
   "id": "65d96d87-1903-4fe8-ac20-8f941bb73c23",
   "metadata": {
    "tags": []
   },
   "source": [
    "**Question 4- Create a function in python to find all three, four, and five character words in a string. The use of the re.compile() method is mandatory.**"
   ]
  },
  {
   "cell_type": "code",
   "execution_count": 7,
   "id": "0ff0fefd-07f7-48ae-a457-600ae4db2390",
   "metadata": {
    "tags": []
   },
   "outputs": [
    {
     "name": "stdout",
     "output_type": "stream",
     "text": [
      "['Aron', 'can', 'you', 'run', 'some', 'the', 'for', 'crate', 'eggs', 'and']\n"
     ]
    }
   ],
   "source": [
    "def threeTOfive(string):\n",
    "    Reg_pattern=re.compile(r'\\b\\w{3,5}\\b')\n",
    "    result=Reg_pattern.findall(string)\n",
    "    print(result)\n",
    "\n",
    "Sample_Text='Aron can you run some errand in the Evening for a crate of eggs and couple of apples?'\n",
    "threeTOfive(Sample_Text)"
   ]
  },
  {
   "cell_type": "markdown",
   "id": "06eaae7f-0395-4d9b-b594-3e7ba1f27942",
   "metadata": {},
   "source": [
    "__Question 5- Create a function in Python to remove the parenthesis in a list of strings. The use of the re.compile() method is mandatory.  \n",
    "Sample Text: [\"example (.com)\", \"hr@fliprobo (.com)\", \"github (.com)\", \"Hello (Data Science World)\", \"Data (Scientist)\"]  \n",
    "Expected Output:  \n",
    "example.com  \n",
    "hr@fliprobo.com  \n",
    "github.com  \n",
    "Hello Data Science World  \n",
    "Data Scientist__\n"
   ]
  },
  {
   "cell_type": "code",
   "execution_count": 8,
   "id": "57ab2233-8137-49f8-b642-5a9a31307796",
   "metadata": {
    "tags": []
   },
   "outputs": [
    {
     "name": "stdout",
     "output_type": "stream",
     "text": [
      "example.com\n",
      "hr@fliprobo.com\n",
      "github.com\n",
      "Hello Data Science World\n",
      "Data Scientist\n"
     ]
    }
   ],
   "source": [
    "def remove_parathesis(string):\n",
    "    Reg_pattern=re.compile('[()]')\n",
    "    for str in string:\n",
    "        result=Reg_pattern.sub(\"\",str)\n",
    "        result= re.sub('\\s+\\.','.', result)\n",
    "        print(result)\n",
    "\n",
    "Sample_Text=[\"example (.com)\", \"hr@fliprobo (.com)\", \"github (.com)\", \"Hello (Data Science World)\", \"Data (Scientist)\"]\n",
    "remove_parathesis(Sample_Text)"
   ]
  },
  {
   "cell_type": "markdown",
   "id": "ce47f39a-a6d8-4606-af95-a39891786554",
   "metadata": {
    "tags": []
   },
   "source": [
    "**Question 6- Write a python program to remove the parenthesis area from the text stored in the text file using Regular Expression.  \n",
    "Sample Text: [\"example (.com)\", \"hr@fliprobo (.com)\", \"github (.com)\", \"Hello (Data Science World)\", \"Data (Scientist)\"]  \n",
    "Expected Output: [\"example\", \"hr@fliprobo\", \"github\", \"Hello\", \"Data\"]  \n",
    "Note- Store given sample text in the text file and then to remove the parenthesis area from the text.**\n"
   ]
  },
  {
   "cell_type": "code",
   "execution_count": 11,
   "id": "b5787517-21d7-4ec0-9fb8-2524e653702f",
   "metadata": {
    "tags": []
   },
   "outputs": [],
   "source": [
    "with open(r'C:\\Users\\reshma\\Desktop\\RegexFile.txt', 'r') as file:\n",
    "   text=file.read()\n",
    "new_text=re.sub(r\"\\s\\([^()]*\\)\",\"\",text)\n",
    "with open(r'C:\\Users\\reshma\\Desktop\\RegexFile.txt','w') as file:\n",
    "    file.write(new_text)"
   ]
  },
  {
   "cell_type": "markdown",
   "id": "9418dfa0-66a5-4f8d-bcf5-d4d366e3d52c",
   "metadata": {},
   "source": [
    "**Question 7- Write a regular expression in Python to split a string into uppercase letters.  \n",
    "Sample text: “ImportanceOfRegularExpressionsInPython”  \n",
    "Expected Output: [‘Importance’, ‘Of’, ‘Regular’, ‘Expression’, ‘In’, ‘Python’]**\n"
   ]
  },
  {
   "cell_type": "code",
   "execution_count": 12,
   "id": "c1777700-6218-41b3-9b25-ff61cd727b0a",
   "metadata": {
    "tags": []
   },
   "outputs": [
    {
     "name": "stdout",
     "output_type": "stream",
     "text": [
      "['Importance', 'Of', 'Regular', 'Expressions', 'In', 'Python']\n"
     ]
    }
   ],
   "source": [
    "Sample_Text=\"ImportanceOfRegularExpressionsInPython\"\n",
    "pattern=\"[A-Z][a-z]*\"\n",
    "result=re.findall(pattern,Sample_Text)\n",
    "print(result)"
   ]
  },
  {
   "cell_type": "markdown",
   "id": "c56bc583-8a6b-48a7-ae73-85d1d864acc0",
   "metadata": {},
   "source": [
    "**Question 8- Create a function in python to insert spaces between words starting with numbers.  \n",
    "Sample Text: “RegularExpression1IsAn2ImportantTopic3InPython\"  \n",
    "Expected Output: RegularExpression 1IsAn 2ImportantTopic 3InPython**\n"
   ]
  },
  {
   "cell_type": "code",
   "execution_count": 10,
   "id": "942e3e15-6759-48e2-acb9-da23fd5ec6cc",
   "metadata": {
    "tags": []
   },
   "outputs": [
    {
     "name": "stdout",
     "output_type": "stream",
     "text": [
      "RegularExpression 1IsAn 2ImportantTopic 3InPython\n"
     ]
    }
   ],
   "source": [
    "Sample_Text=\"RegularExpression1IsAn2ImportantTopic3InPython\"\n",
    "pattern=\"(?=\\d)\"\n",
    "result=re.sub(pattern,\" \",Sample_Text)\n",
    "print(result)"
   ]
  },
  {
   "cell_type": "markdown",
   "id": "9556e4a8-43f8-4799-91c3-6ddf7f44a4e3",
   "metadata": {
    "tags": []
   },
   "source": [
    "**Question 9- Create a function in python to insert spaces between words starting with capital letters or with numbers.  \n",
    "Sample Text: \"RegularExpression1IsAn2ImportantTopic3InPython\"  \n",
    "Expected Output:  RegularExpression 1 IsAn 2 ImportantTopic 3 InPython**\n"
   ]
  },
  {
   "cell_type": "code",
   "execution_count": 11,
   "id": "1b138b7b-46f7-4cc2-a941-2a56ec9cdbfc",
   "metadata": {
    "tags": []
   },
   "outputs": [
    {
     "name": "stdout",
     "output_type": "stream",
     "text": [
      "RegularExpression 1 IsAn 2 ImportantTopic 3 InPython\n"
     ]
    }
   ],
   "source": [
    "Sample_Text=\"RegularExpression1IsAn2ImportantTopic3InPython\"\n",
    "pattern=\"(?=\\d)|(?<=\\d)\"\n",
    "result=re.sub(pattern,\" \",Sample_Text)\n",
    "print(result)"
   ]
  },
  {
   "cell_type": "markdown",
   "id": "2db621b2-4fd9-4d88-b548-9ab831774e44",
   "metadata": {},
   "source": [
    "**Question 10- Write a python program to extract email address from the text stored in the text file using Regular Expression.  \n",
    "Sample Text- Hello my name is Data Science and my email address is xyz@domain.com and alternate email address is xyz.abc@sdomain.domain.com.  \n",
    "Please contact us at hr@fliprobo.com for further information.   \n",
    "Expected Output: \n",
    "['xyz@domain.com', 'xyz.abc@sdomain.domain.com']\n",
    "['hr@fliprobo.com']**\n",
    "\n",
    "**Note- Store given sample text in the text file and then extract email addresses.**"
   ]
  },
  {
   "cell_type": "code",
   "execution_count": 14,
   "id": "d69890d9-dc14-4e0d-8d49-1d958e00841e",
   "metadata": {
    "tags": []
   },
   "outputs": [
    {
     "name": "stdout",
     "output_type": "stream",
     "text": [
      "['xyz@domain.com', 'xyz.abc@sdomain.domain.com', 'hr@fliprobo.com']\n"
     ]
    }
   ],
   "source": [
    "with open(r\"C:\\Users\\reshma\\Desktop\\RegexFile1.txt\",\"r\") as file:\n",
    "    text=file.read()\n",
    "pattern=\"\\w*\\.?\\w*@\\w*\\.?\\w*\\.com\"\n",
    "result=re.findall(pattern,text)\n",
    "print(result)\n",
    "        "
   ]
  },
  {
   "cell_type": "markdown",
   "id": "78eb32be-6d96-413d-b313-df40cbe151ee",
   "metadata": {},
   "source": [
    "**Question 11- Write a Python program to match a string that contains only upper and lowercase letters, numbers, and underscores.**"
   ]
  },
  {
   "cell_type": "code",
   "execution_count": 156,
   "id": "de2543f4-bb5b-4b20-9053-dd35628043ad",
   "metadata": {
    "tags": []
   },
   "outputs": [
    {
     "name": "stdin",
     "output_type": "stream",
     "text": [
      "Enter a string 657767XDFGDFGFdfsfsdf_\n"
     ]
    },
    {
     "name": "stdout",
     "output_type": "stream",
     "text": [
      "String contains only alpahanumeric character\n"
     ]
    }
   ],
   "source": [
    "text=input('Enter a string')\n",
    "pattern='\\w+$'\n",
    "result=re.match(pattern,text)\n",
    "if result:\n",
    "    print(\"String contains only alpahanumeric character\")\n",
    "else:\n",
    "    print(\"String contains character other than alphanumeric ones too\")"
   ]
  },
  {
   "cell_type": "markdown",
   "id": "62b9705c-10bd-4120-b1c3-0444565c230c",
   "metadata": {
    "tags": []
   },
   "source": [
    "**Question 12- Write a Python program where a string will start with a specific number.**"
   ]
  },
  {
   "cell_type": "code",
   "execution_count": 169,
   "id": "23ed37be-863b-4372-bb71-6f75319d8edd",
   "metadata": {
    "tags": []
   },
   "outputs": [
    {
     "name": "stdin",
     "output_type": "stream",
     "text": [
      "Enter the number 67\n",
      "Enter the string 67bvvgj\n"
     ]
    },
    {
     "name": "stdout",
     "output_type": "stream",
     "text": [
      "Text starts with 67\n"
     ]
    }
   ],
   "source": [
    "#lets check if a string starts with a number 9.\n",
    "num=input(\"Enter the number\")\n",
    "text=input(\"Enter the string\")\n",
    "result=re.match(num,text)\n",
    "if result:\n",
    "    print('Text starts with {}'.format(num))\n",
    "else:\n",
    "    print('Text doesnt start with {}'.format(num)) \n"
   ]
  },
  {
   "cell_type": "markdown",
   "id": "fb6e7c37-646b-464b-8320-837873b4583e",
   "metadata": {},
   "source": [
    "**Question 13- Write a Python program to remove leading zeros from an IP address**"
   ]
  },
  {
   "cell_type": "code",
   "execution_count": 287,
   "id": "1e737a58-ac99-4135-9f9d-c0f30d9b9a36",
   "metadata": {
    "tags": []
   },
   "outputs": [
    {
     "name": "stdin",
     "output_type": "stream",
     "text": [
      "Enter IP 192.001.002.003\n"
     ]
    },
    {
     "name": "stdout",
     "output_type": "stream",
     "text": [
      "192.1.2.3\n"
     ]
    }
   ],
   "source": [
    "ip=input(\"Enter IP\")\n",
    "pattern=\"(0+)([0-9]+)\"\n",
    "result=re.sub(pattern,r\"\\2\",ip)\n",
    "print(result)"
   ]
  },
  {
   "cell_type": "markdown",
   "id": "a01c8ad3-b85f-42c5-a024-951f96a89f2c",
   "metadata": {
    "tags": []
   },
   "source": [
    "**Question 14- Write a regular expression in python to match a date string in the form of Month name followed by day number and year stored in a text file.  \n",
    "Sample text :  ' On August 15th 1947 that India was declared independent from British colonialism, and the reins of control were handed over to the leaders of the Country’.  \n",
    "Expected Output- August 15th 1947  \n",
    "Note- Store given sample text in the text file and then extract the date string asked format.**\n"
   ]
  },
  {
   "cell_type": "code",
   "execution_count": 206,
   "id": "77eb12ac-837a-410e-91f8-08c6bbcd7303",
   "metadata": {
    "tags": []
   },
   "outputs": [
    {
     "name": "stdout",
     "output_type": "stream",
     "text": [
      "August 15th 1947\n"
     ]
    }
   ],
   "source": [
    "with open(r\"C:\\Users\\reshma\\Desktop\\Regex2.txt\",\"r\") as file:\n",
    "          text=file.read()\n",
    "pattern=r'\\b([A-Z][a-z]+ \\d{1,2}(?:st|nd|rd|th) \\d{4})\\b'\n",
    "result=re.search(pattern,text)\n",
    "print(result[0])          "
   ]
  },
  {
   "cell_type": "markdown",
   "id": "98f3355c-9b25-482f-840c-e79df422f8c5",
   "metadata": {},
   "source": [
    "**Question 15- Write a Python program to search some literals strings in a string.   \n",
    "Sample text : 'The quick brown fox jumps over the lazy dog.'  \n",
    "Searched words : 'fox', 'dog', 'horse'**\n"
   ]
  },
  {
   "cell_type": "code",
   "execution_count": 25,
   "id": "6465f25d-6f62-4f4c-bdc2-ab0dbfa84841",
   "metadata": {
    "tags": []
   },
   "outputs": [
    {
     "name": "stdout",
     "output_type": "stream",
     "text": [
      "['fox', 'dog']\n"
     ]
    }
   ],
   "source": [
    "Sample_text='The quick brown fox jumps over the lazy dog.'\n",
    "pattern=\"fox|dog|horse\"\n",
    "result=re.findall(pattern,Sample_text)\n",
    "print(result)"
   ]
  },
  {
   "cell_type": "markdown",
   "id": "841d7df9-d0cc-4ab5-94ea-c29b3ac01cd9",
   "metadata": {
    "tags": []
   },
   "source": [
    "**Question 16- Write a Python program to search a literals string in a string and also find the location within the original string where the pattern occurs  \n",
    "Sample text : 'The quick brown fox jumps over the lazy dog.'  \n",
    "Searched words : 'fox'+**"
   ]
  },
  {
   "cell_type": "code",
   "execution_count": 15,
   "id": "8f0ee52d-77ab-4f6c-beac-b74a875468df",
   "metadata": {},
   "outputs": [
    {
     "name": "stdout",
     "output_type": "stream",
     "text": [
      "Match found at 16\n"
     ]
    }
   ],
   "source": [
    "Sample_text='The quick brown fox jumps over the lazy dog.'\n",
    "pattern=\"fox+\"\n",
    "result=re.search(pattern,Sample_text)\n",
    "print(\"Match found at\",result.start())"
   ]
  },
  {
   "cell_type": "markdown",
   "id": "44719890-caf0-4585-a109-1745558dfa4e",
   "metadata": {
    "tags": []
   },
   "source": [
    "**Question 17- Write a Python program to find the substrings within a string.  \n",
    "Sample text : 'Python exercises, PHP exercises, C# exercises'  \n",
    "Pattern : 'exercises'.**\n"
   ]
  },
  {
   "cell_type": "code",
   "execution_count": 208,
   "id": "e943b820-a9ad-4659-ae63-052961501f09",
   "metadata": {
    "tags": []
   },
   "outputs": [
    {
     "name": "stdout",
     "output_type": "stream",
     "text": [
      "['exercises', 'exercises', 'exercises']\n"
     ]
    }
   ],
   "source": [
    "Sample_text='Python exercises, PHP exercises, C# exercises'\n",
    "pattern=\"exercises\"\n",
    "result=re.findall(pattern,Sample_text)\n",
    "print(result)"
   ]
  },
  {
   "cell_type": "markdown",
   "id": "812aedfb-2a42-4b62-9ee7-af54ab87722b",
   "metadata": {},
   "source": [
    "**Question 18- Write a Python program to find the occurrence and position of the substrings within a string.**"
   ]
  },
  {
   "cell_type": "code",
   "execution_count": 214,
   "id": "138fe6ba-fc4d-4aef-a596-dd0066f6b6c3",
   "metadata": {
    "tags": []
   },
   "outputs": [
    {
     "name": "stdin",
     "output_type": "stream",
     "text": [
      "Enter the text Python exercises, PHP exercises, C# exercises\n",
      "enter the word to be searched exercises\n"
     ]
    },
    {
     "name": "stdout",
     "output_type": "stream",
     "text": [
      "Found at 7\n",
      "Found at 22\n",
      "Found at 36\n",
      "Total occurance  3\n"
     ]
    }
   ],
   "source": [
    "Sample_text=input(\"Enter the text\")\n",
    "pattern=input(\"enter the word to be searched\")\n",
    "result=re.finditer(pattern,Sample_text)\n",
    "counter=0\n",
    "for i in result:\n",
    "    pos=i.start()\n",
    "    counter=counter+1\n",
    "    print(\"Found at position\",pos)\n",
    "print(\"Total occurance\",counter)   "
   ]
  },
  {
   "cell_type": "markdown",
   "id": "96d36ea7-3311-4fd2-810f-b9829d3d0a4b",
   "metadata": {},
   "source": [
    "**Question 19- Write a Python program to convert a date of yyyy-mm-dd format to dd-mm-yyyy format.**\n"
   ]
  },
  {
   "cell_type": "code",
   "execution_count": 16,
   "id": "965277f2-46ac-44ff-b54b-55a7e6d3515e",
   "metadata": {
    "tags": []
   },
   "outputs": [
    {
     "name": "stdin",
     "output_type": "stream",
     "text": [
      "Enter a date in yyyy-mm-dd format 2009-09-26\n"
     ]
    },
    {
     "name": "stdout",
     "output_type": "stream",
     "text": [
      "Formatted date 26-09-2009\n"
     ]
    }
   ],
   "source": [
    "date=input(\"Enter a date in yyyy-mm-dd format\")\n",
    "pattern=\"(\\d{4})-(\\d{2})-(\\d{2})\"\n",
    "result=re.sub(pattern,r\"\\3-\\2-\\1\",date)\n",
    "print(\"Formatted date\",result) "
   ]
  },
  {
   "cell_type": "markdown",
   "id": "d13204b4-6bc4-4364-b052-21809206fc06",
   "metadata": {},
   "source": [
    "**Question 20- Create a function in python to find all decimal numbers with a precision of 1 or 2 in a string. The use of the re.compile() method is mandatory.  \n",
    "Sample Text: \"01.12 0132.123 2.31875 145.8 3.01 27.25 0.25\"  \n",
    "Expected Output: ['01.12', '145.8', '3.01', '27.25', '0.25']**\n"
   ]
  },
  {
   "cell_type": "code",
   "execution_count": 17,
   "id": "3cd916c9-0936-42e3-88c4-f9c22df48a76",
   "metadata": {
    "tags": []
   },
   "outputs": [
    {
     "name": "stdout",
     "output_type": "stream",
     "text": [
      "['01.12', '145.8', '3.01', '27.25', '0.25']\n"
     ]
    }
   ],
   "source": [
    "Sample_Text=\"01.12 0132.123 2.31875 145.8 3.01 27.25 0.25\"\n",
    "pattern=r\"\\b[0-9]+\\.[0-9]{1,2}\\b\"\n",
    "result=re.findall(pattern,Sample_Text)\n",
    "print(result)"
   ]
  },
  {
   "cell_type": "markdown",
   "id": "eb64dd78-d64f-43d6-9b4f-6afbd3d20d5b",
   "metadata": {},
   "source": [
    "**Question 21- Write a Python program to separate and print the numbers and their position of a given string.**"
   ]
  },
  {
   "cell_type": "code",
   "execution_count": 18,
   "id": "777d9b11-38d6-45d7-b549-9ec2e6f540cd",
   "metadata": {
    "tags": []
   },
   "outputs": [
    {
     "name": "stdin",
     "output_type": "stream",
     "text": [
      "Enter the text I am 26 year old now and was born in the year 1997.\n"
     ]
    },
    {
     "name": "stdout",
     "output_type": "stream",
     "text": [
      "Number found is 26 at position 5\n",
      "Number found is 1997 at position 46\n"
     ]
    }
   ],
   "source": [
    "text=input(\"Enter the text\")\n",
    "pattern=\"\\d+\"\n",
    "for i in re.finditer(pattern,text):\n",
    "    result=i.group()\n",
    "    pos=i.start()\n",
    "    print(\"Number found is\",result,\"at position\",pos)   "
   ]
  },
  {
   "cell_type": "markdown",
   "id": "dbb0761d-6275-4056-b7e1-0342444479b9",
   "metadata": {},
   "source": [
    "**Question 22- Write a regular expression in python program to extract maximum/largest numeric value from a string.  \n",
    "Sample Text:  'My marks in each semester are: 947, 896, 926, 524, 734, 950, 642'  \n",
    "Expected Output: 950**\n"
   ]
  },
  {
   "cell_type": "code",
   "execution_count": 19,
   "id": "a2b18cc4-7761-4f4e-b7de-e4b59b1f155c",
   "metadata": {
    "tags": []
   },
   "outputs": [
    {
     "name": "stdout",
     "output_type": "stream",
     "text": [
      "The largest numeric value : 950\n"
     ]
    }
   ],
   "source": [
    "Sample_Text='My marks in each semester are: 947, 896, 926, 524, 734, 950, 642'\n",
    "pattern=r\"\\b[0-9]+\\b\"\n",
    "result=re.findall(pattern,Sample_Text)\n",
    "result.sort()\n",
    "print(\"The largest numeric value :\",result[-1])"
   ]
  },
  {
   "cell_type": "markdown",
   "id": "9c45e843-f097-4c4a-81ea-13baa143df3f",
   "metadata": {},
   "source": [
    "**Question 23- Create a function in python to insert spaces between words starting with capital letters.  \n",
    "Sample Text: “RegularExpressionIsAnImportantTopicInPython\"  \n",
    "Expected Output: Regular Expression Is An Important Topic In Python**\n"
   ]
  },
  {
   "cell_type": "code",
   "execution_count": 22,
   "id": "93c02fd3-f8c9-44f3-904b-495935776b67",
   "metadata": {
    "tags": []
   },
   "outputs": [
    {
     "name": "stdout",
     "output_type": "stream",
     "text": [
      "Regular Expression Is An Important Topic In Python\n"
     ]
    }
   ],
   "source": [
    "def Capital_spaces(str):\n",
    "    pattern=\"(\\w)([A-Z])\"\n",
    "    result=re.sub(pattern,r\"\\1 \\2\",str)\n",
    "    print(result)\n",
    "    \n",
    "Sample_Text=\"RegularExpressionIsAnImportantTopicInPython\"\n",
    "Capital_spaces(Sample_Text)\n"
   ]
  },
  {
   "cell_type": "markdown",
   "id": "0ef30421-2992-4bef-8581-0eb965754d61",
   "metadata": {},
   "source": [
    "**Question 24- Python regex to find sequences of one upper case letter followed by lower case letters**"
   ]
  },
  {
   "cell_type": "code",
   "execution_count": 219,
   "id": "7d42bd4e-58b3-4aad-a5be-92246997dd49",
   "metadata": {
    "tags": []
   },
   "outputs": [
    {
     "name": "stdin",
     "output_type": "stream",
     "text": [
      "Enter the text The quick Brown Fox Jumps Over the Lazy Dog.\n"
     ]
    },
    {
     "name": "stdout",
     "output_type": "stream",
     "text": [
      "['The', 'Brown', 'Fox', 'Jumps', 'Over', 'Lazy', 'Dog']\n"
     ]
    }
   ],
   "source": [
    "text=input(\"Enter the text\")\n",
    "pattern=\"[A-Z]+[a-z]+\"\n",
    "result=re.findall(pattern,text)\n",
    "if result:\n",
    "    print(result)\n",
    "else:\n",
    "    print(\"Not found\")"
   ]
  },
  {
   "cell_type": "markdown",
   "id": "28934e7b-ae66-46c6-9fcc-6568d38304d1",
   "metadata": {
    "tags": []
   },
   "source": [
    "**Question 25- Write a Python program to remove continuous duplicate words from Sentence using Regular Expression.  \n",
    "Sample Text: \"Hello hello world world\"  \n",
    "Expected Output: Hello hello world**\n"
   ]
  },
  {
   "cell_type": "code",
   "execution_count": 221,
   "id": "14ac073b-2fff-4170-89bf-e61bc55774d8",
   "metadata": {
    "tags": []
   },
   "outputs": [
    {
     "name": "stdout",
     "output_type": "stream",
     "text": [
      "Hello hello world\n"
     ]
    }
   ],
   "source": [
    "Sample_Text=\"Hello hello world world\"\n",
    "pattern=r\"\\b(\\w+)\\s\\1\\b\"\n",
    "result=re.sub(pattern,r\"\\1\",Sample_Text)\n",
    "print(result)"
   ]
  },
  {
   "cell_type": "markdown",
   "id": "2e508cef-150f-433f-ba2f-69bc91704d14",
   "metadata": {},
   "source": [
    "**Question 26-  Write a python program using RegEx to accept string ending with alphanumeric character.**"
   ]
  },
  {
   "cell_type": "code",
   "execution_count": 223,
   "id": "c0f2f2d6-83e9-4d83-961b-0ed44162565b",
   "metadata": {
    "tags": []
   },
   "outputs": [
    {
     "name": "stdin",
     "output_type": "stream",
     "text": [
      "Enter a string #$%^&g)_'\n"
     ]
    },
    {
     "name": "stdout",
     "output_type": "stream",
     "text": [
      "Only string with alphanumeric Ending is acceptable. Try entering different string\n"
     ]
    }
   ],
   "source": [
    "x=input(\"Enter a string\")\n",
    "pattern=\"\\w$\"\n",
    "result=re.search(pattern,x)\n",
    "if result:\n",
    "    print(\"String Accepted\")\n",
    "else:\n",
    "    print(\"Only string with alphanumeric Ending is acceptable. Try entering different string\")\n"
   ]
  },
  {
   "cell_type": "markdown",
   "id": "4a48d2ce-795d-45ba-9c09-e1ac93a65820",
   "metadata": {},
   "source": [
    "**Question 27-Write a python program using RegEx to extract the hashtags.  \n",
    "Sample Text:  \"\"\"RT @kapil_kausik: #Doltiwal I mean #xyzabc is \"hurt\" by #Demonetization as the same has rendered USELESS <ed><U+00A0><U+00BD><ed><U+00B1><U+0089> \"acquired funds\" No wo\"\"\"  \n",
    "    Expected Output: ['#Doltiwal', '#xyzabc', '#Demonetization']**\n"
   ]
  },
  {
   "cell_type": "code",
   "execution_count": 60,
   "id": "1bd32e12-a723-4dd2-835e-68a781673fcc",
   "metadata": {
    "tags": []
   },
   "outputs": [
    {
     "name": "stdout",
     "output_type": "stream",
     "text": [
      "['#Doltiwal', '#xyzabc', '#Demonetization']\n"
     ]
    }
   ],
   "source": [
    "Sample_Text=\"\"\"RT @kapil_kausik: #Doltiwal I mean #xyzabc is \"hurt\" by #Demonetization as the same has rendered USELESS <U+00A0><U+00BD><U+00B1><U+0089> \"acquired funds\" No wo\"\"\"\n",
    "pattern=\"#\\w+\"\n",
    "result=re.findall(pattern,Sample_Text)\n",
    "print(result)"
   ]
  },
  {
   "cell_type": "markdown",
   "id": "930d44c6-7ab3-4f2d-92c1-1f240d6fabff",
   "metadata": {},
   "source": [
    "**Question 28- Write a python program using RegEx to remove <U+..> like symbols  \n",
    "Check the below sample text, there are strange symbols something of the sort <U+..> all over the place. You need to come up with a general Regex expression that will cover all such symbols.  \n",
    "Sample Text: \"@Jags123456 Bharat band on 28??<ed><U+00A0><U+00BD><ed><U+00B8><U+0082>Those who  are protesting #demonetization  are all different party leaders\"    \n",
    "    Expected Output: @Jags123456 Bharat band on 28??<ed><ed>Those who  are protesting #demonetization  are all different party leaders**\n"
   ]
  },
  {
   "cell_type": "code",
   "execution_count": 56,
   "id": "8a890e60-e8d0-4c49-adba-30ebccda6b37",
   "metadata": {
    "tags": []
   },
   "outputs": [
    {
     "name": "stdout",
     "output_type": "stream",
     "text": [
      "@Jags123456 Bharat band on 28??Those who are protesting #demonetization are all different party leaders\n"
     ]
    }
   ],
   "source": [
    "Sample_Text=\"@Jags123456 Bharat band on 28??<U+00A0><U+00BD><U+00B8><U+0082>Those who are protesting #demonetization are all different party leaders\"\n",
    "pattern=\"<U\\+\\w+>\"\n",
    "result=re.sub(pattern,\"\",Sample_Text)\n",
    "print(result)"
   ]
  },
  {
   "cell_type": "markdown",
   "id": "541b1b8a-2654-4ea7-a771-0b4f124f6077",
   "metadata": {},
   "source": [
    "**Question 29- Write a python program to extract dates from the text stored in the text file.  \n",
    "Sample Text: Ron was born on 12-09-1992 and he was admitted to school 15-12-1999.  \n",
    "Note- Store this sample text in the file and then extract dates.**\n"
   ]
  },
  {
   "cell_type": "code",
   "execution_count": 261,
   "id": "7a540875-b547-4915-b9a3-6fa2e5c37414",
   "metadata": {
    "tags": []
   },
   "outputs": [
    {
     "name": "stdout",
     "output_type": "stream",
     "text": [
      "Ron was born on 12-09-1992 and he was admitted to school 15-12-1999.\n",
      "\n",
      "['12-09-1992', '15-12-1999']\n"
     ]
    }
   ],
   "source": [
    "with open(r\"C:\\Users\\reshma\\Desktop\\Regex3.txt\",\"r\") as file:\n",
    "    text=file.read()\n",
    "    print(text)\n",
    "pattern=\"\\d{1,2}-\\d{1,2}-\\d{4}\"\n",
    "result=re.findall(pattern,text)\n",
    "print(result)"
   ]
  },
  {
   "cell_type": "markdown",
   "id": "2d394b41-0f4f-43ee-ac56-fb1374aa14ba",
   "metadata": {
    "tags": []
   },
   "source": [
    "**Question 30- Create a function in python to remove all words from a string of length between 2 and 4.  \n",
    "The use of the re.compile() method is mandatory.  \n",
    "Sample Text: \"The following example creates an ArrayList with a capacity of 50 elements. 4 elements are then added to the ArrayList and the ArrayList is trimmed accordingly.\"  \n",
    "Expected Output:  following example creates ArrayList a capacity elements. 4 elements added ArrayList ArrayList trimmed accordingly**"
   ]
  },
  {
   "cell_type": "code",
   "execution_count": 280,
   "id": "822cc4a4-0061-4631-8a87-dfba1f5e3187",
   "metadata": {
    "tags": []
   },
   "outputs": [
    {
     "name": "stdout",
     "output_type": "stream",
     "text": [
      "following example creates ArrayList a capacity elements. 4 elements added ArrayList ArrayList trimmed accordingly.\n"
     ]
    }
   ],
   "source": [
    "Sample_Text=\"The following example creates an ArrayList with a capacity of 50 elements. 4 elements are then added to the ArrayList and the ArrayList is trimmed accordingly.\"\n",
    "reg_p=re.compile(r\"\\b\\w{2,4}\\b\\s\")\n",
    "def nolen_2_4(string):\n",
    "    result=reg_p.sub(\"\",string)\n",
    "    print(result)\n",
    "    \n",
    "nolen_2_4(Sample_Text)    \n",
    "        \n",
    "        \n",
    " "
   ]
  }
 ],
 "metadata": {
  "kernelspec": {
   "display_name": "Python 3 (ipykernel)",
   "language": "python",
   "name": "python3"
  },
  "language_info": {
   "codemirror_mode": {
    "name": "ipython",
    "version": 3
   },
   "file_extension": ".py",
   "mimetype": "text/x-python",
   "name": "python",
   "nbconvert_exporter": "python",
   "pygments_lexer": "ipython3",
   "version": "3.11.4"
  }
 },
 "nbformat": 4,
 "nbformat_minor": 5
}
